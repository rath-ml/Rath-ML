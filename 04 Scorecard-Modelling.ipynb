{
 "cells": [
  {
   "cell_type": "markdown",
   "metadata": {},
   "source": [
    "# Credit Risk Modelling: Scorecard vs ML Classifiers"
   ]
  },
  {
   "cell_type": "markdown",
   "metadata": {},
   "source": [
    "## Introduction"
   ]
  },
  {
   "cell_type": "markdown",
   "metadata": {},
   "source": [
    "This project examines how  traditional approaches to building scorecards and credit risk models compare to machine learning methods with regards performance and other business/operational considerations.  \n",
    "\n",
    "It starts by going through the process of building a standard scorecard in python, and then goes on toexamine some of the advantages of this methodology. It ends with a comparison to some machine learining methods and discusses how they might be applied in a business context. \n",
    "\n",
    "The analysis finds some evidence that machine learning outperforms the standard approach with regards modelling, but is inconclusive with regards whether it offers significant business benefits. "
   ]
  },
  {
   "cell_type": "markdown",
   "metadata": {},
   "source": [
    "## Data"
   ]
  },
  {
   "cell_type": "markdown",
   "metadata": {},
   "source": [
    "Data for this project is taken from the [Kaggle \"Home Credit Default Risk Competition\"](https://www.kaggle.com/willkoehrsen/start-here-a-gentle-introduction). The dataset we will use contains details of previously successful applicants and an indicator of whether they ultimately defaulted (our target variable). \n",
    "\n",
    "I will be looking at how feature engineering and dimensionality reduction can be applied to the balance and payment history datsets  in a subsequent project. "
   ]
  },
  {
   "cell_type": "code",
   "execution_count": 1,
   "metadata": {},
   "outputs": [],
   "source": [
    "import pandas as pd\n",
    "import numpy as np\n",
    "%matplotlib inline\n",
    "import matplotlib as mpl\n",
    "import matplotlib.pyplot as plt\n",
    "\n",
    "import warnings\n",
    "warnings.simplefilter(action='ignore')\n",
    "\n",
    "\n",
    "#training data\n",
    "train_raw=pd.read_csv(\"C:/Users/tomra/Desktop/ml_ipynb/Scorecard/application_train.csv\")"
   ]
  },
  {
   "cell_type": "code",
   "execution_count": 2,
   "metadata": {},
   "outputs": [],
   "source": [
    "dev_data=train_raw"
   ]
  },
  {
   "cell_type": "code",
   "execution_count": 3,
   "metadata": {},
   "outputs": [
    {
     "name": "stdout",
     "output_type": "stream",
     "text": [
      "<class 'pandas.core.frame.DataFrame'>\n",
      "RangeIndex: 307511 entries, 0 to 307510\n",
      "Columns: 122 entries, SK_ID_CURR to AMT_REQ_CREDIT_BUREAU_YEAR\n",
      "dtypes: float64(65), int64(41), object(16)\n",
      "memory usage: 286.2+ MB\n"
     ]
    }
   ],
   "source": [
    "dev_data.info()"
   ]
  },
  {
   "cell_type": "code",
   "execution_count": 4,
   "metadata": {},
   "outputs": [
    {
     "data": {
      "text/html": [
       "<div>\n",
       "<style scoped>\n",
       "    .dataframe tbody tr th:only-of-type {\n",
       "        vertical-align: middle;\n",
       "    }\n",
       "\n",
       "    .dataframe tbody tr th {\n",
       "        vertical-align: top;\n",
       "    }\n",
       "\n",
       "    .dataframe thead th {\n",
       "        text-align: right;\n",
       "    }\n",
       "</style>\n",
       "<table border=\"1\" class=\"dataframe\">\n",
       "  <thead>\n",
       "    <tr style=\"text-align: right;\">\n",
       "      <th></th>\n",
       "      <th>SK_ID_CURR</th>\n",
       "      <th>TARGET</th>\n",
       "      <th>NAME_CONTRACT_TYPE</th>\n",
       "      <th>CODE_GENDER</th>\n",
       "      <th>FLAG_OWN_CAR</th>\n",
       "      <th>FLAG_OWN_REALTY</th>\n",
       "      <th>CNT_CHILDREN</th>\n",
       "      <th>AMT_INCOME_TOTAL</th>\n",
       "      <th>AMT_CREDIT</th>\n",
       "      <th>AMT_ANNUITY</th>\n",
       "      <th>...</th>\n",
       "      <th>FLAG_DOCUMENT_18</th>\n",
       "      <th>FLAG_DOCUMENT_19</th>\n",
       "      <th>FLAG_DOCUMENT_20</th>\n",
       "      <th>FLAG_DOCUMENT_21</th>\n",
       "      <th>AMT_REQ_CREDIT_BUREAU_HOUR</th>\n",
       "      <th>AMT_REQ_CREDIT_BUREAU_DAY</th>\n",
       "      <th>AMT_REQ_CREDIT_BUREAU_WEEK</th>\n",
       "      <th>AMT_REQ_CREDIT_BUREAU_MON</th>\n",
       "      <th>AMT_REQ_CREDIT_BUREAU_QRT</th>\n",
       "      <th>AMT_REQ_CREDIT_BUREAU_YEAR</th>\n",
       "    </tr>\n",
       "  </thead>\n",
       "  <tbody>\n",
       "    <tr>\n",
       "      <th>0</th>\n",
       "      <td>100002</td>\n",
       "      <td>1</td>\n",
       "      <td>Cash loans</td>\n",
       "      <td>M</td>\n",
       "      <td>N</td>\n",
       "      <td>Y</td>\n",
       "      <td>0</td>\n",
       "      <td>202500.0</td>\n",
       "      <td>406597.5</td>\n",
       "      <td>24700.5</td>\n",
       "      <td>...</td>\n",
       "      <td>0</td>\n",
       "      <td>0</td>\n",
       "      <td>0</td>\n",
       "      <td>0</td>\n",
       "      <td>0.0</td>\n",
       "      <td>0.0</td>\n",
       "      <td>0.0</td>\n",
       "      <td>0.0</td>\n",
       "      <td>0.0</td>\n",
       "      <td>1.0</td>\n",
       "    </tr>\n",
       "    <tr>\n",
       "      <th>1</th>\n",
       "      <td>100003</td>\n",
       "      <td>0</td>\n",
       "      <td>Cash loans</td>\n",
       "      <td>F</td>\n",
       "      <td>N</td>\n",
       "      <td>N</td>\n",
       "      <td>0</td>\n",
       "      <td>270000.0</td>\n",
       "      <td>1293502.5</td>\n",
       "      <td>35698.5</td>\n",
       "      <td>...</td>\n",
       "      <td>0</td>\n",
       "      <td>0</td>\n",
       "      <td>0</td>\n",
       "      <td>0</td>\n",
       "      <td>0.0</td>\n",
       "      <td>0.0</td>\n",
       "      <td>0.0</td>\n",
       "      <td>0.0</td>\n",
       "      <td>0.0</td>\n",
       "      <td>0.0</td>\n",
       "    </tr>\n",
       "    <tr>\n",
       "      <th>2</th>\n",
       "      <td>100004</td>\n",
       "      <td>0</td>\n",
       "      <td>Revolving loans</td>\n",
       "      <td>M</td>\n",
       "      <td>Y</td>\n",
       "      <td>Y</td>\n",
       "      <td>0</td>\n",
       "      <td>67500.0</td>\n",
       "      <td>135000.0</td>\n",
       "      <td>6750.0</td>\n",
       "      <td>...</td>\n",
       "      <td>0</td>\n",
       "      <td>0</td>\n",
       "      <td>0</td>\n",
       "      <td>0</td>\n",
       "      <td>0.0</td>\n",
       "      <td>0.0</td>\n",
       "      <td>0.0</td>\n",
       "      <td>0.0</td>\n",
       "      <td>0.0</td>\n",
       "      <td>0.0</td>\n",
       "    </tr>\n",
       "    <tr>\n",
       "      <th>3</th>\n",
       "      <td>100006</td>\n",
       "      <td>0</td>\n",
       "      <td>Cash loans</td>\n",
       "      <td>F</td>\n",
       "      <td>N</td>\n",
       "      <td>Y</td>\n",
       "      <td>0</td>\n",
       "      <td>135000.0</td>\n",
       "      <td>312682.5</td>\n",
       "      <td>29686.5</td>\n",
       "      <td>...</td>\n",
       "      <td>0</td>\n",
       "      <td>0</td>\n",
       "      <td>0</td>\n",
       "      <td>0</td>\n",
       "      <td>NaN</td>\n",
       "      <td>NaN</td>\n",
       "      <td>NaN</td>\n",
       "      <td>NaN</td>\n",
       "      <td>NaN</td>\n",
       "      <td>NaN</td>\n",
       "    </tr>\n",
       "    <tr>\n",
       "      <th>4</th>\n",
       "      <td>100007</td>\n",
       "      <td>0</td>\n",
       "      <td>Cash loans</td>\n",
       "      <td>M</td>\n",
       "      <td>N</td>\n",
       "      <td>Y</td>\n",
       "      <td>0</td>\n",
       "      <td>121500.0</td>\n",
       "      <td>513000.0</td>\n",
       "      <td>21865.5</td>\n",
       "      <td>...</td>\n",
       "      <td>0</td>\n",
       "      <td>0</td>\n",
       "      <td>0</td>\n",
       "      <td>0</td>\n",
       "      <td>0.0</td>\n",
       "      <td>0.0</td>\n",
       "      <td>0.0</td>\n",
       "      <td>0.0</td>\n",
       "      <td>0.0</td>\n",
       "      <td>0.0</td>\n",
       "    </tr>\n",
       "  </tbody>\n",
       "</table>\n",
       "<p>5 rows × 122 columns</p>\n",
       "</div>"
      ],
      "text/plain": [
       "   SK_ID_CURR  TARGET NAME_CONTRACT_TYPE CODE_GENDER FLAG_OWN_CAR  \\\n",
       "0      100002       1         Cash loans           M            N   \n",
       "1      100003       0         Cash loans           F            N   \n",
       "2      100004       0    Revolving loans           M            Y   \n",
       "3      100006       0         Cash loans           F            N   \n",
       "4      100007       0         Cash loans           M            N   \n",
       "\n",
       "  FLAG_OWN_REALTY  CNT_CHILDREN  AMT_INCOME_TOTAL  AMT_CREDIT  AMT_ANNUITY  \\\n",
       "0               Y             0          202500.0    406597.5      24700.5   \n",
       "1               N             0          270000.0   1293502.5      35698.5   \n",
       "2               Y             0           67500.0    135000.0       6750.0   \n",
       "3               Y             0          135000.0    312682.5      29686.5   \n",
       "4               Y             0          121500.0    513000.0      21865.5   \n",
       "\n",
       "              ...              FLAG_DOCUMENT_18 FLAG_DOCUMENT_19  \\\n",
       "0             ...                             0                0   \n",
       "1             ...                             0                0   \n",
       "2             ...                             0                0   \n",
       "3             ...                             0                0   \n",
       "4             ...                             0                0   \n",
       "\n",
       "  FLAG_DOCUMENT_20 FLAG_DOCUMENT_21 AMT_REQ_CREDIT_BUREAU_HOUR  \\\n",
       "0                0                0                        0.0   \n",
       "1                0                0                        0.0   \n",
       "2                0                0                        0.0   \n",
       "3                0                0                        NaN   \n",
       "4                0                0                        0.0   \n",
       "\n",
       "  AMT_REQ_CREDIT_BUREAU_DAY  AMT_REQ_CREDIT_BUREAU_WEEK  \\\n",
       "0                       0.0                         0.0   \n",
       "1                       0.0                         0.0   \n",
       "2                       0.0                         0.0   \n",
       "3                       NaN                         NaN   \n",
       "4                       0.0                         0.0   \n",
       "\n",
       "   AMT_REQ_CREDIT_BUREAU_MON  AMT_REQ_CREDIT_BUREAU_QRT  \\\n",
       "0                        0.0                        0.0   \n",
       "1                        0.0                        0.0   \n",
       "2                        0.0                        0.0   \n",
       "3                        NaN                        NaN   \n",
       "4                        0.0                        0.0   \n",
       "\n",
       "   AMT_REQ_CREDIT_BUREAU_YEAR  \n",
       "0                         1.0  \n",
       "1                         0.0  \n",
       "2                         0.0  \n",
       "3                         NaN  \n",
       "4                         0.0  \n",
       "\n",
       "[5 rows x 122 columns]"
      ]
     },
     "execution_count": 4,
     "metadata": {},
     "output_type": "execute_result"
    }
   ],
   "source": [
    "dev_data.head()"
   ]
  },
  {
   "cell_type": "markdown",
   "metadata": {},
   "source": [
    "We've certainly got plenty of variables to work with. Since the Kaggle project linked above has already done plenty of exploratory analysis we'll get straight into deciding which ones we variables to use for analysis. We would likely use Information Value (detailed below) or some other propogation method to choose our variables if we really wanted to build an optimal model; since this is just for illustration purposes, however, we could do with cutting things down to size early on, so we'll simply correlate everything against our TARGET variable and pick the best 9-10. \n",
    "\n",
    "Implenting a complete correlation matrix in a mixed-type dataset with mean turning the binary string types (e.g. those given as Y/N) into binary integers and one-hot encoding the other categoricals. "
   ]
  },
  {
   "cell_type": "code",
   "execution_count": 5,
   "metadata": {},
   "outputs": [],
   "source": [
    "# credit/income ratio\n",
    "dev_data[\"CRED_RATIO\"]=dev_data[\"AMT_CREDIT\"]/dev_data[\"AMT_INCOME_TOTAL\"]"
   ]
  },
  {
   "cell_type": "code",
   "execution_count": 6,
   "metadata": {},
   "outputs": [],
   "source": [
    "#Table dividing variables into \"categorical\" and \"numeric\"\n",
    "\n",
    "Var_Types=pd.DataFrame(dev_data.select_dtypes(include='object').columns, columns=[\"Var\"])\n",
    "Var_Types[\"Type\"]=\"Cat\"\n",
    "\n",
    "Nums=pd.DataFrame(dev_data.select_dtypes(exclude='object').columns, columns=[\"Var\"])\n",
    "Nums[\"Type\"]=\"Num\"\n",
    "\n",
    "Var_Types=pd.concat([Var_Types, Nums])"
   ]
  },
  {
   "cell_type": "code",
   "execution_count": 7,
   "metadata": {},
   "outputs": [
    {
     "name": "stdout",
     "output_type": "stream",
     "text": [
      "NAME_CONTRACT_TYPE was encoded \n",
      "FLAG_OWN_CAR was encoded \n",
      "FLAG_OWN_REALTY was encoded \n",
      "3 columns were label encoded.\n"
     ]
    }
   ],
   "source": [
    "from sklearn.preprocessing import LabelEncoder\n",
    "\n",
    "#Method for encoding binary data (object-types with 2 unique values)\n",
    "def encode_binary(data):    \n",
    "\n",
    "    le = LabelEncoder()\n",
    "    le_count = 0\n",
    "    df=data\n",
    "    # Iterate through the columns\n",
    "    for col in data:\n",
    "        if data[col].dtype == 'object':\n",
    "            # If 2 or fewer unique categories\n",
    "            if len(list(data[col].unique())) <= 2:\n",
    "                # Train on the data\n",
    "                le.fit(data[col])\n",
    "                # Transform  data\n",
    "                df[col] = le.transform(data[col])   \n",
    "                            \n",
    "\n",
    "                # Keep track of how many columns were label encoded\n",
    "                le_count += 1\n",
    "                print(col + \" was encoded \")\n",
    "    print('%d columns were label encoded.' % le_count)\n",
    "    return df\n",
    "\n",
    "dev_data=encode_binary(dev_data)"
   ]
  },
  {
   "cell_type": "code",
   "execution_count": 8,
   "metadata": {},
   "outputs": [],
   "source": [
    "# Updating variable types table with binaries\n",
    "Var_Types[\"Type\"]=np.where(Var_Types.Var.isin([\"NAME_CONTRACT_TYPE\", \"FLAG_OWN_CAR\", \"FLAG_OWN_REALTY\"]), \"Binary\", Var_Types[\"Type\"])"
   ]
  },
  {
   "cell_type": "code",
   "execution_count": 9,
   "metadata": {},
   "outputs": [],
   "source": [
    "#takes onehot-encoded (df_dummies) table and original table, returns array of original variables and corresponding encoded variables\n",
    "def encoder_cols_match(df_dummies, df_original):\n",
    "    new_columns=np.array(df_dummies.columns[np.isin(np.array(df_dummies.columns), np.array(df_original.columns), invert=True)])\n",
    "\n",
    "    original_columns=np.array(df_original.columns[np.isin(np.array(df_original.columns), np.array(df_dummies.columns), invert=True)])\n",
    "\n",
    "    cols_match=np.empty([0, 2],dtype=np.dtype('U100'))\n",
    "\n",
    "    for x in range(original_columns.shape[0]):\n",
    "\n",
    "        ind=[i for i,item in enumerate(new_columns) if original_columns[x] in item]\n",
    "        if ind:\n",
    "\n",
    "            empty=np.empty([len(ind), 2], dtype=np.dtype('U100'))\n",
    "            empty[:,0]=original_columns[x]\n",
    "            empty[:,1]=new_columns[ind]\n",
    "            cols_match=np.concatenate((cols_match, empty))\n",
    "\n",
    "        else:\n",
    "            pass\n",
    "\n",
    "    return cols_match\n",
    "\n",
    "dummies=pd.get_dummies(dev_data)\n",
    "dummies_match=encoder_cols_match(dummies, dev_data)"
   ]
  },
  {
   "cell_type": "code",
   "execution_count": 10,
   "metadata": {},
   "outputs": [],
   "source": [
    "#Correlations:\n",
    "corr_matrix=dummies.corr()\n",
    "corr_frame=pd.DataFrame(corr_matrix[\"TARGET\"])\n",
    "\n",
    "corr_frame=pd.merge(corr_frame.reset_index(), pd.DataFrame(dummies_match,columns=( \"original\", \"dummy\")),\n",
    "how='left', left_on='index', right_on='dummy' )\n",
    "corr_frame[\"Characteristic\"]=np.where(corr_frame['original'].isnull(), corr_frame['index'], corr_frame['original'])\n",
    "corr_frame=corr_frame.rename(columns={'index': 'Attribute'})[[\"Attribute\", \"TARGET\", \"Characteristic\"]]\n",
    "corr_frame=corr_frame.merge(Var_Types, left_on='Characteristic', right_on='Var', how='inner')\n",
    "corr_frame=corr_frame.sort_values(by=\"TARGET\", ascending=False).reset_index()\n",
    "corr_frame=corr_frame.drop(columns=[\"Var\", \"index\"])"
   ]
  },
  {
   "cell_type": "markdown",
   "metadata": {},
   "source": [
    "Throughout the project, I'll try and stick to Credit Risk terminology and refer to categorical variables as \"characteristics\" and their values as attributes. "
   ]
  },
  {
   "cell_type": "markdown",
   "metadata": {},
   "source": [
    "The ten highest correlates:"
   ]
  },
  {
   "cell_type": "code",
   "execution_count": 11,
   "metadata": {},
   "outputs": [
    {
     "data": {
      "text/html": [
       "<div>\n",
       "<style scoped>\n",
       "    .dataframe tbody tr th:only-of-type {\n",
       "        vertical-align: middle;\n",
       "    }\n",
       "\n",
       "    .dataframe tbody tr th {\n",
       "        vertical-align: top;\n",
       "    }\n",
       "\n",
       "    .dataframe thead th {\n",
       "        text-align: right;\n",
       "    }\n",
       "</style>\n",
       "<table border=\"1\" class=\"dataframe\">\n",
       "  <thead>\n",
       "    <tr style=\"text-align: right;\">\n",
       "      <th></th>\n",
       "      <th>Attribute</th>\n",
       "      <th>TARGET</th>\n",
       "      <th>Characteristic</th>\n",
       "      <th>Type</th>\n",
       "    </tr>\n",
       "  </thead>\n",
       "  <tbody>\n",
       "    <tr>\n",
       "      <th>0</th>\n",
       "      <td>TARGET</td>\n",
       "      <td>1.000000</td>\n",
       "      <td>TARGET</td>\n",
       "      <td>Num</td>\n",
       "    </tr>\n",
       "    <tr>\n",
       "      <th>1</th>\n",
       "      <td>DAYS_BIRTH</td>\n",
       "      <td>0.078239</td>\n",
       "      <td>DAYS_BIRTH</td>\n",
       "      <td>Num</td>\n",
       "    </tr>\n",
       "    <tr>\n",
       "      <th>2</th>\n",
       "      <td>REGION_RATING_CLIENT_W_CITY</td>\n",
       "      <td>0.060893</td>\n",
       "      <td>REGION_RATING_CLIENT_W_CITY</td>\n",
       "      <td>Num</td>\n",
       "    </tr>\n",
       "    <tr>\n",
       "      <th>3</th>\n",
       "      <td>REGION_RATING_CLIENT</td>\n",
       "      <td>0.058899</td>\n",
       "      <td>REGION_RATING_CLIENT</td>\n",
       "      <td>Num</td>\n",
       "    </tr>\n",
       "    <tr>\n",
       "      <th>4</th>\n",
       "      <td>NAME_INCOME_TYPE_Working</td>\n",
       "      <td>0.057481</td>\n",
       "      <td>NAME_INCOME_TYPE</td>\n",
       "      <td>Cat</td>\n",
       "    </tr>\n",
       "    <tr>\n",
       "      <th>5</th>\n",
       "      <td>DAYS_LAST_PHONE_CHANGE</td>\n",
       "      <td>0.055218</td>\n",
       "      <td>DAYS_LAST_PHONE_CHANGE</td>\n",
       "      <td>Num</td>\n",
       "    </tr>\n",
       "    <tr>\n",
       "      <th>6</th>\n",
       "      <td>CODE_GENDER_M</td>\n",
       "      <td>0.054713</td>\n",
       "      <td>CODE_GENDER</td>\n",
       "      <td>Cat</td>\n",
       "    </tr>\n",
       "    <tr>\n",
       "      <th>7</th>\n",
       "      <td>DAYS_ID_PUBLISH</td>\n",
       "      <td>0.051457</td>\n",
       "      <td>DAYS_ID_PUBLISH</td>\n",
       "      <td>Num</td>\n",
       "    </tr>\n",
       "    <tr>\n",
       "      <th>8</th>\n",
       "      <td>REG_CITY_NOT_WORK_CITY</td>\n",
       "      <td>0.050994</td>\n",
       "      <td>REG_CITY_NOT_WORK_CITY</td>\n",
       "      <td>Num</td>\n",
       "    </tr>\n",
       "    <tr>\n",
       "      <th>9</th>\n",
       "      <td>NAME_EDUCATION_TYPE_Secondary / secondary special</td>\n",
       "      <td>0.049824</td>\n",
       "      <td>NAME_EDUCATION_TYPE</td>\n",
       "      <td>Cat</td>\n",
       "    </tr>\n",
       "  </tbody>\n",
       "</table>\n",
       "</div>"
      ],
      "text/plain": [
       "                                           Attribute    TARGET  \\\n",
       "0                                             TARGET  1.000000   \n",
       "1                                         DAYS_BIRTH  0.078239   \n",
       "2                        REGION_RATING_CLIENT_W_CITY  0.060893   \n",
       "3                               REGION_RATING_CLIENT  0.058899   \n",
       "4                           NAME_INCOME_TYPE_Working  0.057481   \n",
       "5                             DAYS_LAST_PHONE_CHANGE  0.055218   \n",
       "6                                      CODE_GENDER_M  0.054713   \n",
       "7                                    DAYS_ID_PUBLISH  0.051457   \n",
       "8                             REG_CITY_NOT_WORK_CITY  0.050994   \n",
       "9  NAME_EDUCATION_TYPE_Secondary / secondary special  0.049824   \n",
       "\n",
       "                Characteristic Type  \n",
       "0                       TARGET  Num  \n",
       "1                   DAYS_BIRTH  Num  \n",
       "2  REGION_RATING_CLIENT_W_CITY  Num  \n",
       "3         REGION_RATING_CLIENT  Num  \n",
       "4             NAME_INCOME_TYPE  Cat  \n",
       "5       DAYS_LAST_PHONE_CHANGE  Num  \n",
       "6                  CODE_GENDER  Cat  \n",
       "7              DAYS_ID_PUBLISH  Num  \n",
       "8       REG_CITY_NOT_WORK_CITY  Num  \n",
       "9          NAME_EDUCATION_TYPE  Cat  "
      ]
     },
     "execution_count": 11,
     "metadata": {},
     "output_type": "execute_result"
    }
   ],
   "source": [
    "corr_frame.head(10)"
   ]
  },
  {
   "cell_type": "markdown",
   "metadata": {},
   "source": [
    "10 most negatively valued:"
   ]
  },
  {
   "cell_type": "code",
   "execution_count": 12,
   "metadata": {},
   "outputs": [
    {
     "data": {
      "text/html": [
       "<div>\n",
       "<style scoped>\n",
       "    .dataframe tbody tr th:only-of-type {\n",
       "        vertical-align: middle;\n",
       "    }\n",
       "\n",
       "    .dataframe tbody tr th {\n",
       "        vertical-align: top;\n",
       "    }\n",
       "\n",
       "    .dataframe thead th {\n",
       "        text-align: right;\n",
       "    }\n",
       "</style>\n",
       "<table border=\"1\" class=\"dataframe\">\n",
       "  <thead>\n",
       "    <tr style=\"text-align: right;\">\n",
       "      <th></th>\n",
       "      <th>Attribute</th>\n",
       "      <th>TARGET</th>\n",
       "      <th>Characteristic</th>\n",
       "      <th>Type</th>\n",
       "    </tr>\n",
       "  </thead>\n",
       "  <tbody>\n",
       "    <tr>\n",
       "      <th>234</th>\n",
       "      <td>FLOORSMAX_MEDI</td>\n",
       "      <td>-0.043768</td>\n",
       "      <td>FLOORSMAX_MEDI</td>\n",
       "      <td>Num</td>\n",
       "    </tr>\n",
       "    <tr>\n",
       "      <th>235</th>\n",
       "      <td>FLOORSMAX_AVG</td>\n",
       "      <td>-0.044003</td>\n",
       "      <td>FLOORSMAX_AVG</td>\n",
       "      <td>Num</td>\n",
       "    </tr>\n",
       "    <tr>\n",
       "      <th>236</th>\n",
       "      <td>DAYS_EMPLOYED</td>\n",
       "      <td>-0.044932</td>\n",
       "      <td>DAYS_EMPLOYED</td>\n",
       "      <td>Num</td>\n",
       "    </tr>\n",
       "    <tr>\n",
       "      <th>237</th>\n",
       "      <td>ORGANIZATION_TYPE_XNA</td>\n",
       "      <td>-0.045987</td>\n",
       "      <td>ORGANIZATION_TYPE</td>\n",
       "      <td>Cat</td>\n",
       "    </tr>\n",
       "    <tr>\n",
       "      <th>238</th>\n",
       "      <td>NAME_INCOME_TYPE_Pensioner</td>\n",
       "      <td>-0.046209</td>\n",
       "      <td>NAME_INCOME_TYPE</td>\n",
       "      <td>Cat</td>\n",
       "    </tr>\n",
       "    <tr>\n",
       "      <th>239</th>\n",
       "      <td>CODE_GENDER_F</td>\n",
       "      <td>-0.054704</td>\n",
       "      <td>CODE_GENDER</td>\n",
       "      <td>Cat</td>\n",
       "    </tr>\n",
       "    <tr>\n",
       "      <th>240</th>\n",
       "      <td>NAME_EDUCATION_TYPE_Higher education</td>\n",
       "      <td>-0.056593</td>\n",
       "      <td>NAME_EDUCATION_TYPE</td>\n",
       "      <td>Cat</td>\n",
       "    </tr>\n",
       "    <tr>\n",
       "      <th>241</th>\n",
       "      <td>EXT_SOURCE_1</td>\n",
       "      <td>-0.155317</td>\n",
       "      <td>EXT_SOURCE_1</td>\n",
       "      <td>Num</td>\n",
       "    </tr>\n",
       "    <tr>\n",
       "      <th>242</th>\n",
       "      <td>EXT_SOURCE_2</td>\n",
       "      <td>-0.160472</td>\n",
       "      <td>EXT_SOURCE_2</td>\n",
       "      <td>Num</td>\n",
       "    </tr>\n",
       "    <tr>\n",
       "      <th>243</th>\n",
       "      <td>EXT_SOURCE_3</td>\n",
       "      <td>-0.178919</td>\n",
       "      <td>EXT_SOURCE_3</td>\n",
       "      <td>Num</td>\n",
       "    </tr>\n",
       "  </tbody>\n",
       "</table>\n",
       "</div>"
      ],
      "text/plain": [
       "                                Attribute    TARGET       Characteristic Type\n",
       "234                        FLOORSMAX_MEDI -0.043768       FLOORSMAX_MEDI  Num\n",
       "235                         FLOORSMAX_AVG -0.044003        FLOORSMAX_AVG  Num\n",
       "236                         DAYS_EMPLOYED -0.044932        DAYS_EMPLOYED  Num\n",
       "237                 ORGANIZATION_TYPE_XNA -0.045987    ORGANIZATION_TYPE  Cat\n",
       "238            NAME_INCOME_TYPE_Pensioner -0.046209     NAME_INCOME_TYPE  Cat\n",
       "239                         CODE_GENDER_F -0.054704          CODE_GENDER  Cat\n",
       "240  NAME_EDUCATION_TYPE_Higher education -0.056593  NAME_EDUCATION_TYPE  Cat\n",
       "241                          EXT_SOURCE_1 -0.155317         EXT_SOURCE_1  Num\n",
       "242                          EXT_SOURCE_2 -0.160472         EXT_SOURCE_2  Num\n",
       "243                          EXT_SOURCE_3 -0.178919         EXT_SOURCE_3  Num"
      ]
     },
     "execution_count": 12,
     "metadata": {},
     "output_type": "execute_result"
    }
   ],
   "source": [
    "corr_frame.tail(10)"
   ]
  },
  {
   "cell_type": "markdown",
   "metadata": {},
   "source": [
    "DAYS_BIRTH, DAYS_EMPLOYED, REGION_RATING_CLIENT_W_CITY, REGION_RATING_CLIENT, NAME_INCOME_TYPE, CODE_GENDER, NAME_EDUCATION_TYPE, and EXT_SOURCE_1/2/3 are all reasonable correlates, so we'll go with these. "
   ]
  },
  {
   "cell_type": "markdown",
   "metadata": {},
   "source": [
    "### Binning"
   ]
  },
  {
   "cell_type": "markdown",
   "metadata": {},
   "source": [
    "A lot of the inspiration for what follows in this project is taken from Naeem [Siddiqi's book](https://pdfs.semanticscholar.org/dd5c/7f59d20d9a00d4c93e3d6a7e9973f3462e7e.pdf) on Credit Risk Scorecards. \n",
    "\n",
    "The traditional scorecard method has several elements: there are the WOE/IV tables, giving the relative \"importance\" of each attribute/characteristic; customer-level \"scores\", estimating how likely a given applicant is to default in terms of the details given on the application; and there is the model itself, used to predict portfolio outcomes and to inform and validate scores. \n",
    "\n",
    "Since scores are at attribute level, we will need to turn our numerical variables into discretely-binned characteristics. Starting with DAYS_BIRTH, we'll covert to years initially in order to make the variable somewhat easier to work with:"
   ]
  },
  {
   "cell_type": "code",
   "execution_count": 13,
   "metadata": {},
   "outputs": [
    {
     "name": "stdout",
     "output_type": "stream",
     "text": [
      "missing values:0\n",
      "min: 21\n",
      "max: 69\n"
     ]
    },
    {
     "data": {
      "image/png": "[encoded data removed]",
      "text/plain": [
       "<matplotlib.figure.Figure at 0x1b882f5a748>"
      ]
     },
     "metadata": {},
     "output_type": "display_data"
    }
   ],
   "source": [
    "# a function to taking some initial variable checks\n",
    "def initial_checks(data, var):\n",
    "    data[var].hist();\n",
    "\n",
    "    print(\"missing values:\" + str(sum(data[var].isna())))\n",
    "    print(\"min: \" + str(min(data[var])))\n",
    "    print(\"max: \" + str(max(data[var])))\n",
    "\n",
    "\n",
    "dev_data[\"YEARS_OLD\"]=round(dev_data[\"DAYS_BIRTH\"]/-365, 0).apply(int)\n",
    "initial_checks(dev_data, \"YEARS_OLD\")\n",
    "\n",
    "dev_data.YEARS_OLD.hist(color='blue');"
   ]
  },
  {
   "cell_type": "markdown",
   "metadata": {},
   "source": [
    "We can see we have values in the range of 21 to 69 and no empty values. \n",
    "\n",
    "The below will sort any numeric variable into a given number of bins, and also given \"na\" values their own bin:"
   ]
  },
  {
   "cell_type": "code",
   "execution_count": 14,
   "metadata": {},
   "outputs": [],
   "source": [
    "def Bad_bins(data, var, tar_var, n_bins):\n",
    "    \n",
    "    pd1=data.reset_index().drop(columns=[\"index\"])\n",
    "    pd1[\"cats\"]=pd.cut(pd1[var], bins=n_bins, precision=1).cat.add_categories(\"miss\").fillna(\"miss\")\n",
    "\n",
    "    BAD_GOOD=pd.DataFrame(np.array(pd1.groupby(\"cats\").count().reset_index())[:,:2])                 \n",
    "    BAD_GOOD.columns = ['cats', 'n']\n",
    "\n",
    "    BAD=pd.DataFrame(pd1[[\"cats\", tar_var]].groupby(\"cats\").sum().rename(columns={tar_var:\"bad\"}))\n",
    "\n",
    "    BAD_PER=BAD_GOOD.merge(BAD, left_on=\"cats\", right_index=True)\n",
    "    BAD_PER=BAD_PER[BAD_PER.n>0]\n",
    "    BAD_PER[\"BAD_PER\"]=BAD_PER[\"bad\"]/BAD_PER[\"n\"]\n",
    "  \n",
    "\n",
    "    ax=BAD_PER.plot(y=\"BAD_PER\", x=\"cats\", kind='bar', color='green')\n",
    "    ax.set_xlabel(var + \" interval\")\n",
    "    ax.set_ylabel(\"Bad %\")\n",
    "    ax.get_legend().remove()"
   ]
  },
  {
   "cell_type": "code",
   "execution_count": 15,
   "metadata": {},
   "outputs": [
    {
     "data": {
      "image/png": "[encoded data removed]",
      "text/plain": [
       "<matplotlib.figure.Figure at 0x1b8e9f47dd8>"
      ]
     },
     "metadata": {},
     "output_type": "display_data"
    }
   ],
   "source": [
    "Bad_bins(dev_data, \"YEARS_OLD\", \"TARGET\", 10)"
   ]
  },
  {
   "cell_type": "markdown",
   "metadata": {},
   "source": [
    "We can use this to decide what bins we actually want to use. We can see that the bad rates initially decend in 5-year blocks and then sort of clump, so we will take first 4 as distinct bins, then group the middle 3, the next-to-last-two and 65+:"
   ]
  },
  {
   "cell_type": "code",
   "execution_count": 16,
   "metadata": {},
   "outputs": [],
   "source": [
    "#a function to apply bins\n",
    "def apply_bins(data, bounds, var):\n",
    "  \n",
    "       for i in range(len(bounds)-1):\n",
    "\n",
    "            data.loc[(bounds[i]<=data[var]) & (data[var]<bounds[i+1]), var+\"_bins\"]= str(round(bounds[i], 2))+\"_\"+str(round(bounds[i+1], 2))\n",
    "\n",
    "\n",
    "       data.loc[data[var]>=bounds[-1], var+\"_bins\"] = str(round(bounds[-1],2))+\"+\"\n",
    "       data.loc[data[var].isna(), var+\"_bins\"]=\"miss\"\n",
    "    \n",
    "  \n",
    "age_bounds=[20, 25, 30, 35, 30, 55, 65]\n",
    "\n",
    "apply_bins(dev_data, age_bounds, \"YEARS_OLD\")\n",
    "\n",
    "#We'll keep the data we're going to use in here\n",
    "IV_WOE_data=pd.DataFrame(np.array([dev_data[\"YEARS_OLD_bins\"], dev_data[\"TARGET\"]]).T)\n",
    "IV_WOE_data.columns=[\"YEARS_OLD_bins\", \"TARGET\"]\n",
    "\n",
    "dev_data=dev_data.drop(columns=\"YEARS_OLD_bins\")"
   ]
  },
  {
   "cell_type": "markdown",
   "metadata": {},
   "source": [
    "DAYS_EMPLOYED looks to have some anomalies:"
   ]
  },
  {
   "cell_type": "code",
   "execution_count": 17,
   "metadata": {},
   "outputs": [
    {
     "name": "stdout",
     "output_type": "stream",
     "text": [
      "missing values:0\n",
      "min: 0.0\n",
      "max: 1000.6657534246575\n"
     ]
    },
    {
     "data": {
      "image/png": "[encoded data removed]",
      "text/plain": [
       "<matplotlib.figure.Figure at 0x1b883258588>"
      ]
     },
     "metadata": {},
     "output_type": "display_data"
    }
   ],
   "source": [
    "dev_data[\"YEARS_EMPLOYED\"]=abs(dev_data[\"DAYS_EMPLOYED\"]/365)\n",
    "\n",
    "initial_checks(dev_data, \"YEARS_EMPLOYED\")"
   ]
  },
  {
   "cell_type": "code",
   "execution_count": 18,
   "metadata": {},
   "outputs": [
    {
     "name": "stdout",
     "output_type": "stream",
     "text": [
      "missing values:55374\n",
      "min: 0.0\n",
      "max: 49.07397260273972\n"
     ]
    },
    {
     "data": {
      "image/png": "[encoded data removed]",
      "text/plain": [
       "<matplotlib.figure.Figure at 0x1b883248898>"
      ]
     },
     "metadata": {},
     "output_type": "display_data"
    }
   ],
   "source": [
    "dev_data.loc[dev_data.YEARS_EMPLOYED>100, \"YEARS_EMPLOYED\"]=float('nan')\n",
    "initial_checks(dev_data, \"YEARS_EMPLOYED\")"
   ]
  },
  {
   "cell_type": "markdown",
   "metadata": {},
   "source": [
    "We've now got some missing values, but we can work with that. Looking at bins:"
   ]
  },
  {
   "cell_type": "code",
   "execution_count": 19,
   "metadata": {},
   "outputs": [
    {
     "data": {
      "image/png": "[encoded data removed]",
      "text/plain": [
       "<matplotlib.figure.Figure at 0x1b8832e0710>"
      ]
     },
     "metadata": {},
     "output_type": "display_data"
    }
   ],
   "source": [
    "Bad_bins(dev_data, \"YEARS_EMPLOYED\", \"TARGET\", 12)"
   ]
  },
  {
   "cell_type": "markdown",
   "metadata": {},
   "source": [
    "We can see that bad rate doesn't linearly decline in proportion to years employed when binned in this manner.\n",
    "\n",
    "When the bins become attributes and appear on the scorecard, we want a simple linear relationship between the attribute and score, because this make it easily it easier for customers, operational staff and analysts to understand what the score represents. \n",
    "\n",
    "In most cases, we can achieve this by adjusting the bin widths, as below:"
   ]
  },
  {
   "cell_type": "code",
   "execution_count": 20,
   "metadata": {},
   "outputs": [
    {
     "data": {
      "image/png": "[encoded data removed]",
      "text/plain": [
       "<matplotlib.figure.Figure at 0x1b88425a780>"
      ]
     },
     "metadata": {},
     "output_type": "display_data"
    }
   ],
   "source": [
    "Bad_bins(dev_data, \"YEARS_EMPLOYED\", \"TARGET\", 8)"
   ]
  },
  {
   "cell_type": "code",
   "execution_count": 21,
   "metadata": {},
   "outputs": [],
   "source": [
    "emp_bounds=[0, 5, 10, 20, 30, 40]\n",
    "apply_bins(dev_data, emp_bounds, \"YEARS_EMPLOYED\")\n",
    "IV_WOE_data[\"YEARS_EMPLOYED_bins\"]=dev_data[\"YEARS_EMPLOYED_bins\"]\n",
    "dev_data=dev_data.drop(columns=\"YEARS_EMPLOYED_bins\")"
   ]
  },
  {
   "cell_type": "markdown",
   "metadata": {},
   "source": [
    "EXT_SOURCE_1/2/3 appear to be metrics derived from an external credit bureau (hence their predictiveness). Applying categorisation:"
   ]
  },
  {
   "cell_type": "code",
   "execution_count": 22,
   "metadata": {},
   "outputs": [
    {
     "name": "stdout",
     "output_type": "stream",
     "text": [
      "missing values:173378\n",
      "min: 0.014568132412445587\n",
      "max: 0.962692770561306\n"
     ]
    },
    {
     "data": {
      "image/png": "[encoded data removed]",
      "text/plain": [
       "<matplotlib.figure.Figure at 0x1b882fc0080>"
      ]
     },
     "metadata": {},
     "output_type": "display_data"
    },
    {
     "data": {
      "image/png": "[encoded data removed]",
      "text/plain": [
       "<matplotlib.figure.Figure at 0x1b8847ed630>"
      ]
     },
     "metadata": {},
     "output_type": "display_data"
    }
   ],
   "source": [
    "initial_checks(dev_data, \"EXT_SOURCE_1\")\n",
    "Bad_bins(dev_data, \"EXT_SOURCE_1\", \"TARGET\", 10)"
   ]
  },
  {
   "cell_type": "code",
   "execution_count": 23,
   "metadata": {},
   "outputs": [],
   "source": [
    "s1_bounds=[x/10 for x in range(11)]\n",
    "apply_bins(dev_data, s1_bounds, \"EXT_SOURCE_1\")\n",
    "IV_WOE_data[\"EXT_SOURCE_1_bins\"]=dev_data[\"EXT_SOURCE_1_bins\"]\n",
    "dev_data=dev_data.drop(columns=\"EXT_SOURCE_1_bins\")"
   ]
  },
  {
   "cell_type": "code",
   "execution_count": 24,
   "metadata": {},
   "outputs": [
    {
     "name": "stdout",
     "output_type": "stream",
     "text": [
      "missing values:660\n",
      "min: 8.173616518884397e-08\n",
      "max: 0.8549996664047012\n"
     ]
    },
    {
     "data": {
      "image/png": "[encoded data removed]",
      "text/plain": [
       "<matplotlib.figure.Figure at 0x1b884a80390>"
      ]
     },
     "metadata": {},
     "output_type": "display_data"
    },
    {
     "data": {
      "image/png": "[encoded data removed]",
      "text/plain": [
       "<matplotlib.figure.Figure at 0x1b884d79e48>"
      ]
     },
     "metadata": {},
     "output_type": "display_data"
    }
   ],
   "source": [
    "initial_checks(dev_data, \"EXT_SOURCE_2\")\n",
    "Bad_bins(dev_data, \"EXT_SOURCE_2\", \"TARGET\", 10)"
   ]
  },
  {
   "cell_type": "code",
   "execution_count": 25,
   "metadata": {},
   "outputs": [],
   "source": [
    "s2_bounds=[x/10 for x in range(10)]\n",
    "apply_bins(dev_data, s2_bounds, \"EXT_SOURCE_2\")\n",
    "IV_WOE_data[\"EXT_SOURCE_2_bins\"]=dev_data[\"EXT_SOURCE_2_bins\"]\n",
    "dev_data=dev_data.drop(columns=\"EXT_SOURCE_2_bins\")"
   ]
  },
  {
   "cell_type": "code",
   "execution_count": 26,
   "metadata": {},
   "outputs": [
    {
     "name": "stdout",
     "output_type": "stream",
     "text": [
      "missing values:60965\n",
      "min: 0.0005272652387098817\n",
      "max: 0.8960095494948396\n"
     ]
    },
    {
     "data": {
      "image/png": "[encoded data removed]",
      "text/plain": [
       "<matplotlib.figure.Figure at 0x1b884d6d7b8>"
      ]
     },
     "metadata": {},
     "output_type": "display_data"
    },
    {
     "data": {
      "image/png": "[encoded data removed]",
      "text/plain": [
       "<matplotlib.figure.Figure at 0x1b885852828>"
      ]
     },
     "metadata": {},
     "output_type": "display_data"
    }
   ],
   "source": [
    "initial_checks(dev_data, \"EXT_SOURCE_3\")\n",
    "Bad_bins(dev_data, \"EXT_SOURCE_3\", \"TARGET\", 10)"
   ]
  },
  {
   "cell_type": "code",
   "execution_count": 27,
   "metadata": {},
   "outputs": [],
   "source": [
    "s3_bounds=[x/10 for x in range(10)]\n",
    "apply_bins(dev_data, s3_bounds, \"EXT_SOURCE_3\")\n",
    "IV_WOE_data[\"EXT_SOURCE_3_bins\"]=dev_data[\"EXT_SOURCE_3_bins\"]"
   ]
  },
  {
   "cell_type": "markdown",
   "metadata": {},
   "source": [
    "That's more or less it for our intial dataset REGION_RATING_CLIENT_W_CITY and REGION_RATING_CLIENT only have 3 unique values, so we'll just convert them to a string - after that we just need to join on the remaining categorical variables:"
   ]
  },
  {
   "cell_type": "code",
   "execution_count": 28,
   "metadata": {},
   "outputs": [
    {
     "data": {
      "text/plain": [
       "array([2, 1, 3], dtype=int64)"
      ]
     },
     "execution_count": 28,
     "metadata": {},
     "output_type": "execute_result"
    }
   ],
   "source": [
    "dev_data.REGION_RATING_CLIENT_W_CITY.unique()"
   ]
  },
  {
   "cell_type": "code",
   "execution_count": 29,
   "metadata": {},
   "outputs": [],
   "source": [
    "IV_WOE_data[\"REGION_RATING_CLIENT_W_CITY\"]=dev_data.REGION_RATING_CLIENT_W_CITY.apply(str)"
   ]
  },
  {
   "cell_type": "code",
   "execution_count": 30,
   "metadata": {},
   "outputs": [
    {
     "data": {
      "text/plain": [
       "array([2, 1, 3], dtype=int64)"
      ]
     },
     "execution_count": 30,
     "metadata": {},
     "output_type": "execute_result"
    }
   ],
   "source": [
    "dev_data.REGION_RATING_CLIENT.unique()"
   ]
  },
  {
   "cell_type": "code",
   "execution_count": 31,
   "metadata": {},
   "outputs": [],
   "source": [
    "IV_WOE_data[\"REGION_RATING_CLIENT\"]=dev_data.REGION_RATING_CLIENT.apply(str)"
   ]
  },
  {
   "cell_type": "markdown",
   "metadata": {},
   "source": [
    "Adding our remaining variables:\n"
   ]
  },
  {
   "cell_type": "code",
   "execution_count": 32,
   "metadata": {},
   "outputs": [],
   "source": [
    "var_list=[\"TARGET\", \"CODE_GENDER\", \"NAME_INCOME_TYPE\", \"NAME_EDUCATION_TYPE\"]\n",
    "\n",
    "IV_WOE_data[var_list]=dev_data[var_list]\n",
    "IV_WOE_data=IV_WOE_data.reset_index()"
   ]
  },
  {
   "cell_type": "markdown",
   "metadata": {},
   "source": [
    "## WOE"
   ]
  },
  {
   "cell_type": "markdown",
   "metadata": {},
   "source": [
    "Our data now appears as follows:"
   ]
  },
  {
   "cell_type": "code",
   "execution_count": 33,
   "metadata": {
    "scrolled": true
   },
   "outputs": [
    {
     "name": "stdout",
     "output_type": "stream",
     "text": [
      "<class 'pandas.core.frame.DataFrame'>\n",
      "RangeIndex: 307511 entries, 0 to 307510\n",
      "Data columns (total 12 columns):\n",
      "index                          307511 non-null int64\n",
      "YEARS_OLD_bins                 307511 non-null object\n",
      "TARGET                         307511 non-null int64\n",
      "YEARS_EMPLOYED_bins            307511 non-null object\n",
      "EXT_SOURCE_1_bins              307511 non-null object\n",
      "EXT_SOURCE_2_bins              307511 non-null object\n",
      "EXT_SOURCE_3_bins              307511 non-null object\n",
      "REGION_RATING_CLIENT_W_CITY    307511 non-null object\n",
      "REGION_RATING_CLIENT           307511 non-null object\n",
      "CODE_GENDER                    307511 non-null object\n",
      "NAME_INCOME_TYPE               307511 non-null object\n",
      "NAME_EDUCATION_TYPE            307511 non-null object\n",
      "dtypes: int64(2), object(10)\n",
      "memory usage: 28.2+ MB\n"
     ]
    }
   ],
   "source": [
    "IV_WOE_data.info()"
   ]
  },
  {
   "cell_type": "code",
   "execution_count": 34,
   "metadata": {},
   "outputs": [
    {
     "data": {
      "text/html": [
       "<div>\n",
       "<style scoped>\n",
       "    .dataframe tbody tr th:only-of-type {\n",
       "        vertical-align: middle;\n",
       "    }\n",
       "\n",
       "    .dataframe tbody tr th {\n",
       "        vertical-align: top;\n",
       "    }\n",
       "\n",
       "    .dataframe thead th {\n",
       "        text-align: right;\n",
       "    }\n",
       "</style>\n",
       "<table border=\"1\" class=\"dataframe\">\n",
       "  <thead>\n",
       "    <tr style=\"text-align: right;\">\n",
       "      <th></th>\n",
       "      <th>index</th>\n",
       "      <th>YEARS_OLD_bins</th>\n",
       "      <th>TARGET</th>\n",
       "      <th>YEARS_EMPLOYED_bins</th>\n",
       "      <th>EXT_SOURCE_1_bins</th>\n",
       "      <th>EXT_SOURCE_2_bins</th>\n",
       "      <th>EXT_SOURCE_3_bins</th>\n",
       "      <th>REGION_RATING_CLIENT_W_CITY</th>\n",
       "      <th>REGION_RATING_CLIENT</th>\n",
       "      <th>CODE_GENDER</th>\n",
       "      <th>NAME_INCOME_TYPE</th>\n",
       "      <th>NAME_EDUCATION_TYPE</th>\n",
       "    </tr>\n",
       "  </thead>\n",
       "  <tbody>\n",
       "    <tr>\n",
       "      <th>0</th>\n",
       "      <td>0</td>\n",
       "      <td>25_30</td>\n",
       "      <td>1</td>\n",
       "      <td>0_5</td>\n",
       "      <td>0.0_0.1</td>\n",
       "      <td>0.2_0.3</td>\n",
       "      <td>0.1_0.2</td>\n",
       "      <td>2</td>\n",
       "      <td>2</td>\n",
       "      <td>M</td>\n",
       "      <td>Working</td>\n",
       "      <td>Secondary / secondary special</td>\n",
       "    </tr>\n",
       "    <tr>\n",
       "      <th>1</th>\n",
       "      <td>1</td>\n",
       "      <td>30_55</td>\n",
       "      <td>0</td>\n",
       "      <td>0_5</td>\n",
       "      <td>0.3_0.4</td>\n",
       "      <td>0.6_0.7</td>\n",
       "      <td>miss</td>\n",
       "      <td>1</td>\n",
       "      <td>1</td>\n",
       "      <td>F</td>\n",
       "      <td>State servant</td>\n",
       "      <td>Higher education</td>\n",
       "    </tr>\n",
       "    <tr>\n",
       "      <th>2</th>\n",
       "      <td>2</td>\n",
       "      <td>30_55</td>\n",
       "      <td>0</td>\n",
       "      <td>0_5</td>\n",
       "      <td>miss</td>\n",
       "      <td>0.5_0.6</td>\n",
       "      <td>0.7_0.8</td>\n",
       "      <td>2</td>\n",
       "      <td>2</td>\n",
       "      <td>M</td>\n",
       "      <td>Working</td>\n",
       "      <td>Secondary / secondary special</td>\n",
       "    </tr>\n",
       "    <tr>\n",
       "      <th>3</th>\n",
       "      <td>3</td>\n",
       "      <td>30_55</td>\n",
       "      <td>0</td>\n",
       "      <td>5_10</td>\n",
       "      <td>miss</td>\n",
       "      <td>0.6_0.7</td>\n",
       "      <td>miss</td>\n",
       "      <td>2</td>\n",
       "      <td>2</td>\n",
       "      <td>F</td>\n",
       "      <td>Working</td>\n",
       "      <td>Secondary / secondary special</td>\n",
       "    </tr>\n",
       "    <tr>\n",
       "      <th>4</th>\n",
       "      <td>4</td>\n",
       "      <td>55_65</td>\n",
       "      <td>0</td>\n",
       "      <td>5_10</td>\n",
       "      <td>miss</td>\n",
       "      <td>0.3_0.4</td>\n",
       "      <td>miss</td>\n",
       "      <td>2</td>\n",
       "      <td>2</td>\n",
       "      <td>M</td>\n",
       "      <td>Working</td>\n",
       "      <td>Secondary / secondary special</td>\n",
       "    </tr>\n",
       "  </tbody>\n",
       "</table>\n",
       "</div>"
      ],
      "text/plain": [
       "   index YEARS_OLD_bins  TARGET YEARS_EMPLOYED_bins EXT_SOURCE_1_bins  \\\n",
       "0      0          25_30       1                 0_5           0.0_0.1   \n",
       "1      1          30_55       0                 0_5           0.3_0.4   \n",
       "2      2          30_55       0                 0_5              miss   \n",
       "3      3          30_55       0                5_10              miss   \n",
       "4      4          55_65       0                5_10              miss   \n",
       "\n",
       "  EXT_SOURCE_2_bins EXT_SOURCE_3_bins REGION_RATING_CLIENT_W_CITY  \\\n",
       "0           0.2_0.3           0.1_0.2                           2   \n",
       "1           0.6_0.7              miss                           1   \n",
       "2           0.5_0.6           0.7_0.8                           2   \n",
       "3           0.6_0.7              miss                           2   \n",
       "4           0.3_0.4              miss                           2   \n",
       "\n",
       "  REGION_RATING_CLIENT CODE_GENDER NAME_INCOME_TYPE  \\\n",
       "0                    2           M          Working   \n",
       "1                    1           F    State servant   \n",
       "2                    2           M          Working   \n",
       "3                    2           F          Working   \n",
       "4                    2           M          Working   \n",
       "\n",
       "             NAME_EDUCATION_TYPE  \n",
       "0  Secondary / secondary special  \n",
       "1               Higher education  \n",
       "2  Secondary / secondary special  \n",
       "3  Secondary / secondary special  \n",
       "4  Secondary / secondary special  "
      ]
     },
     "execution_count": 34,
     "metadata": {},
     "output_type": "execute_result"
    }
   ],
   "source": [
    "IV_WOE_data.head()"
   ]
  },
  {
   "cell_type": "markdown",
   "metadata": {},
   "source": [
    "We are next going to create WOE values. \n",
    "\n",
    "WOE stands for \"Weight of Evidence\" and provides a measure of the predictive power of each characteristic/attribute. \n",
    "\n",
    "Our dataset contains a certain number of \"Goods\" (TARGET==0) and \"Bads\" (TARGET==1). These are spread across the attributes for each characteristic; if you summed up Goods and Bads by attribute, then each given characteristic's corresponding attributes will contain all of the dataset's Goods and Bads.\n",
    "\n",
    "For each attribute, you can then take the proportions of the the total dataset Goods and Bads which correspond to that attribute. The ratio of these proportions then gives a measure of the attribute's Good/Bad rates in relation to the dataset's overall Good/Bad rates. If the rates are better than overall, this proportion will be greater than 1, and  will otherwise be between 0 and 1. Taking the log will hence give a positive value for a relatively favourable Good/Bad rate and a negative value for a relatively unfavourable rate. It is then multiplied by 100 for the sake of readability (much like a percentage). \n",
    "\n",
    "To derive this we will have to melt the dataset into a long format, so that we have a column of characteristics, a column of attributes and columns of totals corresponding to the attribute: "
   ]
  },
  {
   "cell_type": "code",
   "execution_count": 35,
   "metadata": {},
   "outputs": [
    {
     "data": {
      "text/html": [
       "<div>\n",
       "<style scoped>\n",
       "    .dataframe tbody tr th:only-of-type {\n",
       "        vertical-align: middle;\n",
       "    }\n",
       "\n",
       "    .dataframe tbody tr th {\n",
       "        vertical-align: top;\n",
       "    }\n",
       "\n",
       "    .dataframe thead th {\n",
       "        text-align: right;\n",
       "    }\n",
       "</style>\n",
       "<table border=\"1\" class=\"dataframe\">\n",
       "  <thead>\n",
       "    <tr style=\"text-align: right;\">\n",
       "      <th></th>\n",
       "      <th>index</th>\n",
       "      <th>Characteristic</th>\n",
       "      <th>Attribute</th>\n",
       "      <th>TARGET</th>\n",
       "    </tr>\n",
       "  </thead>\n",
       "  <tbody>\n",
       "    <tr>\n",
       "      <th>0</th>\n",
       "      <td>0</td>\n",
       "      <td>YEARS_OLD_bins</td>\n",
       "      <td>25_30</td>\n",
       "      <td>1</td>\n",
       "    </tr>\n",
       "    <tr>\n",
       "      <th>1</th>\n",
       "      <td>0</td>\n",
       "      <td>EXT_SOURCE_2_bins</td>\n",
       "      <td>0.2_0.3</td>\n",
       "      <td>1</td>\n",
       "    </tr>\n",
       "    <tr>\n",
       "      <th>2</th>\n",
       "      <td>0</td>\n",
       "      <td>REGION_RATING_CLIENT</td>\n",
       "      <td>2</td>\n",
       "      <td>1</td>\n",
       "    </tr>\n",
       "    <tr>\n",
       "      <th>4</th>\n",
       "      <td>0</td>\n",
       "      <td>NAME_EDUCATION_TYPE</td>\n",
       "      <td>Secondary / secondary special</td>\n",
       "      <td>1</td>\n",
       "    </tr>\n",
       "    <tr>\n",
       "      <th>5</th>\n",
       "      <td>0</td>\n",
       "      <td>NAME_INCOME_TYPE</td>\n",
       "      <td>Working</td>\n",
       "      <td>1</td>\n",
       "    </tr>\n",
       "    <tr>\n",
       "      <th>6</th>\n",
       "      <td>0</td>\n",
       "      <td>YEARS_EMPLOYED_bins</td>\n",
       "      <td>0_5</td>\n",
       "      <td>1</td>\n",
       "    </tr>\n",
       "    <tr>\n",
       "      <th>7</th>\n",
       "      <td>0</td>\n",
       "      <td>EXT_SOURCE_1_bins</td>\n",
       "      <td>0.0_0.1</td>\n",
       "      <td>1</td>\n",
       "    </tr>\n",
       "    <tr>\n",
       "      <th>8</th>\n",
       "      <td>0</td>\n",
       "      <td>CODE_GENDER</td>\n",
       "      <td>M</td>\n",
       "      <td>1</td>\n",
       "    </tr>\n",
       "    <tr>\n",
       "      <th>9</th>\n",
       "      <td>0</td>\n",
       "      <td>REGION_RATING_CLIENT_W_CITY</td>\n",
       "      <td>2</td>\n",
       "      <td>1</td>\n",
       "    </tr>\n",
       "    <tr>\n",
       "      <th>10</th>\n",
       "      <td>0</td>\n",
       "      <td>EXT_SOURCE_3_bins</td>\n",
       "      <td>0.1_0.2</td>\n",
       "      <td>1</td>\n",
       "    </tr>\n",
       "  </tbody>\n",
       "</table>\n",
       "</div>"
      ],
      "text/plain": [
       "    index               Characteristic                      Attribute  TARGET\n",
       "0       0               YEARS_OLD_bins                          25_30       1\n",
       "1       0            EXT_SOURCE_2_bins                        0.2_0.3       1\n",
       "2       0         REGION_RATING_CLIENT                              2       1\n",
       "4       0          NAME_EDUCATION_TYPE  Secondary / secondary special       1\n",
       "5       0             NAME_INCOME_TYPE                        Working       1\n",
       "6       0          YEARS_EMPLOYED_bins                            0_5       1\n",
       "7       0            EXT_SOURCE_1_bins                        0.0_0.1       1\n",
       "8       0                  CODE_GENDER                              M       1\n",
       "9       0  REGION_RATING_CLIENT_W_CITY                              2       1\n",
       "10      0            EXT_SOURCE_3_bins                        0.1_0.2       1"
      ]
     },
     "execution_count": 35,
     "metadata": {},
     "output_type": "execute_result"
    }
   ],
   "source": [
    "IV_WOE=IV_WOE_data.melt(id_vars='index',value_vars=IV_WOE_data.columns[1:], var_name=\"Characteristic\", value_name=\"Attribute\").sort_values(by=\"index\")\n",
    "IV_WOE=pd.merge(IV_WOE, IV_WOE_data[[\"index\", \"TARGET\"]], on='index')\n",
    "IV_WOE[\"Characteristic\"]=IV_WOE[\"Characteristic\"].apply(str)\n",
    "IV_WOE[\"Attribute\"]=IV_WOE[\"Attribute\"].apply(str)\n",
    "IV_WOE=IV_WOE[IV_WOE.Characteristic!=\"TARGET\"]\n",
    "IV_WOE.head(10)"
   ]
  },
  {
   "cell_type": "code",
   "execution_count": 36,
   "metadata": {},
   "outputs": [
    {
     "data": {
      "text/html": [
       "<div>\n",
       "<style scoped>\n",
       "    .dataframe tbody tr th:only-of-type {\n",
       "        vertical-align: middle;\n",
       "    }\n",
       "\n",
       "    .dataframe tbody tr th {\n",
       "        vertical-align: top;\n",
       "    }\n",
       "\n",
       "    .dataframe thead th {\n",
       "        text-align: right;\n",
       "    }\n",
       "</style>\n",
       "<table border=\"1\" class=\"dataframe\">\n",
       "  <thead>\n",
       "    <tr style=\"text-align: right;\">\n",
       "      <th></th>\n",
       "      <th>Characteristic</th>\n",
       "      <th>Attribute</th>\n",
       "      <th>Count</th>\n",
       "      <th>BAD</th>\n",
       "    </tr>\n",
       "  </thead>\n",
       "  <tbody>\n",
       "    <tr>\n",
       "      <th>0</th>\n",
       "      <td>CODE_GENDER</td>\n",
       "      <td>F</td>\n",
       "      <td>202448</td>\n",
       "      <td>14170</td>\n",
       "    </tr>\n",
       "    <tr>\n",
       "      <th>1</th>\n",
       "      <td>CODE_GENDER</td>\n",
       "      <td>M</td>\n",
       "      <td>105059</td>\n",
       "      <td>10655</td>\n",
       "    </tr>\n",
       "    <tr>\n",
       "      <th>2</th>\n",
       "      <td>CODE_GENDER</td>\n",
       "      <td>XNA</td>\n",
       "      <td>4</td>\n",
       "      <td>0</td>\n",
       "    </tr>\n",
       "    <tr>\n",
       "      <th>3</th>\n",
       "      <td>EXT_SOURCE_1_bins</td>\n",
       "      <td>0.0_0.1</td>\n",
       "      <td>2096</td>\n",
       "      <td>541</td>\n",
       "    </tr>\n",
       "    <tr>\n",
       "      <th>4</th>\n",
       "      <td>EXT_SOURCE_1_bins</td>\n",
       "      <td>0.1_0.2</td>\n",
       "      <td>9565</td>\n",
       "      <td>1585</td>\n",
       "    </tr>\n",
       "    <tr>\n",
       "      <th>5</th>\n",
       "      <td>EXT_SOURCE_1_bins</td>\n",
       "      <td>0.2_0.3</td>\n",
       "      <td>15798</td>\n",
       "      <td>1850</td>\n",
       "    </tr>\n",
       "    <tr>\n",
       "      <th>6</th>\n",
       "      <td>EXT_SOURCE_1_bins</td>\n",
       "      <td>0.3_0.4</td>\n",
       "      <td>18744</td>\n",
       "      <td>1712</td>\n",
       "    </tr>\n",
       "    <tr>\n",
       "      <th>7</th>\n",
       "      <td>EXT_SOURCE_1_bins</td>\n",
       "      <td>0.4_0.5</td>\n",
       "      <td>19676</td>\n",
       "      <td>1396</td>\n",
       "    </tr>\n",
       "    <tr>\n",
       "      <th>8</th>\n",
       "      <td>EXT_SOURCE_1_bins</td>\n",
       "      <td>0.5_0.6</td>\n",
       "      <td>20026</td>\n",
       "      <td>1154</td>\n",
       "    </tr>\n",
       "    <tr>\n",
       "      <th>9</th>\n",
       "      <td>EXT_SOURCE_1_bins</td>\n",
       "      <td>0.6_0.7</td>\n",
       "      <td>19464</td>\n",
       "      <td>937</td>\n",
       "    </tr>\n",
       "    <tr>\n",
       "      <th>10</th>\n",
       "      <td>EXT_SOURCE_1_bins</td>\n",
       "      <td>0.7_0.8</td>\n",
       "      <td>17522</td>\n",
       "      <td>603</td>\n",
       "    </tr>\n",
       "    <tr>\n",
       "      <th>11</th>\n",
       "      <td>EXT_SOURCE_1_bins</td>\n",
       "      <td>0.8_0.9</td>\n",
       "      <td>10435</td>\n",
       "      <td>263</td>\n",
       "    </tr>\n",
       "    <tr>\n",
       "      <th>12</th>\n",
       "      <td>EXT_SOURCE_1_bins</td>\n",
       "      <td>0.9_1.0</td>\n",
       "      <td>807</td>\n",
       "      <td>13</td>\n",
       "    </tr>\n",
       "    <tr>\n",
       "      <th>13</th>\n",
       "      <td>EXT_SOURCE_1_bins</td>\n",
       "      <td>miss</td>\n",
       "      <td>173378</td>\n",
       "      <td>14771</td>\n",
       "    </tr>\n",
       "    <tr>\n",
       "      <th>14</th>\n",
       "      <td>EXT_SOURCE_2_bins</td>\n",
       "      <td>0.0_0.1</td>\n",
       "      <td>11365</td>\n",
       "      <td>2645</td>\n",
       "    </tr>\n",
       "    <tr>\n",
       "      <th>15</th>\n",
       "      <td>EXT_SOURCE_2_bins</td>\n",
       "      <td>0.1_0.2</td>\n",
       "      <td>16500</td>\n",
       "      <td>2606</td>\n",
       "    </tr>\n",
       "  </tbody>\n",
       "</table>\n",
       "</div>"
      ],
      "text/plain": [
       "       Characteristic Attribute   Count    BAD\n",
       "0         CODE_GENDER         F  202448  14170\n",
       "1         CODE_GENDER         M  105059  10655\n",
       "2         CODE_GENDER       XNA       4      0\n",
       "3   EXT_SOURCE_1_bins   0.0_0.1    2096    541\n",
       "4   EXT_SOURCE_1_bins   0.1_0.2    9565   1585\n",
       "5   EXT_SOURCE_1_bins   0.2_0.3   15798   1850\n",
       "6   EXT_SOURCE_1_bins   0.3_0.4   18744   1712\n",
       "7   EXT_SOURCE_1_bins   0.4_0.5   19676   1396\n",
       "8   EXT_SOURCE_1_bins   0.5_0.6   20026   1154\n",
       "9   EXT_SOURCE_1_bins   0.6_0.7   19464    937\n",
       "10  EXT_SOURCE_1_bins   0.7_0.8   17522    603\n",
       "11  EXT_SOURCE_1_bins   0.8_0.9   10435    263\n",
       "12  EXT_SOURCE_1_bins   0.9_1.0     807     13\n",
       "13  EXT_SOURCE_1_bins      miss  173378  14771\n",
       "14  EXT_SOURCE_2_bins   0.0_0.1   11365   2645\n",
       "15  EXT_SOURCE_2_bins   0.1_0.2   16500   2606"
      ]
     },
     "execution_count": 36,
     "metadata": {},
     "output_type": "execute_result"
    }
   ],
   "source": [
    "WOE_sum=IV_WOE.groupby([\"Characteristic\", \"Attribute\"]).sum().drop(columns='index').reset_index().rename(columns={\"TARGET\":\"BAD\"})\n",
    "WOE_n=IV_WOE.groupby([\"Characteristic\", \"Attribute\"]).count().drop(columns='index').reset_index().rename(columns={\"TARGET\":\"Count\"})\n",
    "WOE=pd.merge(WOE_sum, WOE_n[[\"Attribute\", \"Characteristic\", \"Count\"]], on=[\"Attribute\", \"Characteristic\"])\n",
    "cols=[\"Characteristic\", \"Attribute\", \"Count\", \"BAD\"]\n",
    "WOE=WOE[cols]\n",
    "WOE.head(16)"
   ]
  },
  {
   "cell_type": "markdown",
   "metadata": {},
   "source": [
    "We can then derive our WOE table by following the steps outlined above:"
   ]
  },
  {
   "cell_type": "code",
   "execution_count": 37,
   "metadata": {},
   "outputs": [
    {
     "data": {
      "text/html": [
       "<div>\n",
       "<style scoped>\n",
       "    .dataframe tbody tr th:only-of-type {\n",
       "        vertical-align: middle;\n",
       "    }\n",
       "\n",
       "    .dataframe tbody tr th {\n",
       "        vertical-align: top;\n",
       "    }\n",
       "\n",
       "    .dataframe thead th {\n",
       "        text-align: right;\n",
       "    }\n",
       "</style>\n",
       "<table border=\"1\" class=\"dataframe\">\n",
       "  <thead>\n",
       "    <tr style=\"text-align: right;\">\n",
       "      <th></th>\n",
       "      <th>Characteristic</th>\n",
       "      <th>Attribute</th>\n",
       "      <th>Count</th>\n",
       "      <th>BAD</th>\n",
       "      <th>GOOD</th>\n",
       "      <th>Dist_GOOD</th>\n",
       "      <th>Dist_BAD</th>\n",
       "      <th>ln_ODDS</th>\n",
       "      <th>WOE</th>\n",
       "    </tr>\n",
       "  </thead>\n",
       "  <tbody>\n",
       "    <tr>\n",
       "      <th>0</th>\n",
       "      <td>CODE_GENDER</td>\n",
       "      <td>F</td>\n",
       "      <td>202448</td>\n",
       "      <td>14170</td>\n",
       "      <td>188278</td>\n",
       "      <td>0.666032</td>\n",
       "      <td>0.570796</td>\n",
       "      <td>0.154307</td>\n",
       "      <td>15.43</td>\n",
       "    </tr>\n",
       "    <tr>\n",
       "      <th>1</th>\n",
       "      <td>CODE_GENDER</td>\n",
       "      <td>M</td>\n",
       "      <td>105059</td>\n",
       "      <td>10655</td>\n",
       "      <td>94404</td>\n",
       "      <td>0.333954</td>\n",
       "      <td>0.429204</td>\n",
       "      <td>-0.250931</td>\n",
       "      <td>-25.09</td>\n",
       "    </tr>\n",
       "    <tr>\n",
       "      <th>3</th>\n",
       "      <td>EXT_SOURCE_1_bins</td>\n",
       "      <td>0.0_0.1</td>\n",
       "      <td>2096</td>\n",
       "      <td>541</td>\n",
       "      <td>1555</td>\n",
       "      <td>0.005501</td>\n",
       "      <td>0.021793</td>\n",
       "      <td>-1.376674</td>\n",
       "      <td>-137.67</td>\n",
       "    </tr>\n",
       "    <tr>\n",
       "      <th>4</th>\n",
       "      <td>EXT_SOURCE_1_bins</td>\n",
       "      <td>0.1_0.2</td>\n",
       "      <td>9565</td>\n",
       "      <td>1585</td>\n",
       "      <td>7980</td>\n",
       "      <td>0.028229</td>\n",
       "      <td>0.063847</td>\n",
       "      <td>-0.816132</td>\n",
       "      <td>-81.61</td>\n",
       "    </tr>\n",
       "    <tr>\n",
       "      <th>5</th>\n",
       "      <td>EXT_SOURCE_1_bins</td>\n",
       "      <td>0.2_0.3</td>\n",
       "      <td>15798</td>\n",
       "      <td>1850</td>\n",
       "      <td>13948</td>\n",
       "      <td>0.049341</td>\n",
       "      <td>0.074522</td>\n",
       "      <td>-0.412335</td>\n",
       "      <td>-41.23</td>\n",
       "    </tr>\n",
       "    <tr>\n",
       "      <th>6</th>\n",
       "      <td>EXT_SOURCE_1_bins</td>\n",
       "      <td>0.3_0.4</td>\n",
       "      <td>18744</td>\n",
       "      <td>1712</td>\n",
       "      <td>17032</td>\n",
       "      <td>0.060251</td>\n",
       "      <td>0.068963</td>\n",
       "      <td>-0.135054</td>\n",
       "      <td>-13.51</td>\n",
       "    </tr>\n",
       "    <tr>\n",
       "      <th>7</th>\n",
       "      <td>EXT_SOURCE_1_bins</td>\n",
       "      <td>0.4_0.5</td>\n",
       "      <td>19676</td>\n",
       "      <td>1396</td>\n",
       "      <td>18280</td>\n",
       "      <td>0.064665</td>\n",
       "      <td>0.056234</td>\n",
       "      <td>0.139711</td>\n",
       "      <td>13.97</td>\n",
       "    </tr>\n",
       "    <tr>\n",
       "      <th>8</th>\n",
       "      <td>EXT_SOURCE_1_bins</td>\n",
       "      <td>0.5_0.6</td>\n",
       "      <td>20026</td>\n",
       "      <td>1154</td>\n",
       "      <td>18872</td>\n",
       "      <td>0.066760</td>\n",
       "      <td>0.046485</td>\n",
       "      <td>0.361960</td>\n",
       "      <td>36.20</td>\n",
       "    </tr>\n",
       "    <tr>\n",
       "      <th>9</th>\n",
       "      <td>EXT_SOURCE_1_bins</td>\n",
       "      <td>0.6_0.7</td>\n",
       "      <td>19464</td>\n",
       "      <td>937</td>\n",
       "      <td>18527</td>\n",
       "      <td>0.065539</td>\n",
       "      <td>0.037744</td>\n",
       "      <td>0.551816</td>\n",
       "      <td>55.18</td>\n",
       "    </tr>\n",
       "    <tr>\n",
       "      <th>10</th>\n",
       "      <td>EXT_SOURCE_1_bins</td>\n",
       "      <td>0.7_0.8</td>\n",
       "      <td>17522</td>\n",
       "      <td>603</td>\n",
       "      <td>16919</td>\n",
       "      <td>0.059851</td>\n",
       "      <td>0.024290</td>\n",
       "      <td>0.901790</td>\n",
       "      <td>90.18</td>\n",
       "    </tr>\n",
       "    <tr>\n",
       "      <th>11</th>\n",
       "      <td>EXT_SOURCE_1_bins</td>\n",
       "      <td>0.8_0.9</td>\n",
       "      <td>10435</td>\n",
       "      <td>263</td>\n",
       "      <td>10172</td>\n",
       "      <td>0.035983</td>\n",
       "      <td>0.010594</td>\n",
       "      <td>1.222755</td>\n",
       "      <td>122.28</td>\n",
       "    </tr>\n",
       "    <tr>\n",
       "      <th>12</th>\n",
       "      <td>EXT_SOURCE_1_bins</td>\n",
       "      <td>0.9_1.0</td>\n",
       "      <td>807</td>\n",
       "      <td>13</td>\n",
       "      <td>794</td>\n",
       "      <td>0.002809</td>\n",
       "      <td>0.000524</td>\n",
       "      <td>1.679649</td>\n",
       "      <td>167.96</td>\n",
       "    </tr>\n",
       "    <tr>\n",
       "      <th>13</th>\n",
       "      <td>EXT_SOURCE_1_bins</td>\n",
       "      <td>miss</td>\n",
       "      <td>173378</td>\n",
       "      <td>14771</td>\n",
       "      <td>158607</td>\n",
       "      <td>0.561071</td>\n",
       "      <td>0.595005</td>\n",
       "      <td>-0.058722</td>\n",
       "      <td>-5.87</td>\n",
       "    </tr>\n",
       "    <tr>\n",
       "      <th>14</th>\n",
       "      <td>EXT_SOURCE_2_bins</td>\n",
       "      <td>0.0_0.1</td>\n",
       "      <td>11365</td>\n",
       "      <td>2645</td>\n",
       "      <td>8720</td>\n",
       "      <td>0.030847</td>\n",
       "      <td>0.106546</td>\n",
       "      <td>-1.239537</td>\n",
       "      <td>-123.95</td>\n",
       "    </tr>\n",
       "    <tr>\n",
       "      <th>15</th>\n",
       "      <td>EXT_SOURCE_2_bins</td>\n",
       "      <td>0.1_0.2</td>\n",
       "      <td>16500</td>\n",
       "      <td>2606</td>\n",
       "      <td>13894</td>\n",
       "      <td>0.049150</td>\n",
       "      <td>0.104975</td>\n",
       "      <td>-0.758845</td>\n",
       "      <td>-75.88</td>\n",
       "    </tr>\n",
       "    <tr>\n",
       "      <th>16</th>\n",
       "      <td>EXT_SOURCE_2_bins</td>\n",
       "      <td>0.2_0.3</td>\n",
       "      <td>23709</td>\n",
       "      <td>2939</td>\n",
       "      <td>20770</td>\n",
       "      <td>0.073474</td>\n",
       "      <td>0.118389</td>\n",
       "      <td>-0.477045</td>\n",
       "      <td>-47.70</td>\n",
       "    </tr>\n",
       "    <tr>\n",
       "      <th>17</th>\n",
       "      <td>EXT_SOURCE_2_bins</td>\n",
       "      <td>0.3_0.4</td>\n",
       "      <td>27369</td>\n",
       "      <td>2994</td>\n",
       "      <td>24375</td>\n",
       "      <td>0.086226</td>\n",
       "      <td>0.120604</td>\n",
       "      <td>-0.335538</td>\n",
       "      <td>-33.55</td>\n",
       "    </tr>\n",
       "    <tr>\n",
       "      <th>18</th>\n",
       "      <td>EXT_SOURCE_2_bins</td>\n",
       "      <td>0.4_0.5</td>\n",
       "      <td>37854</td>\n",
       "      <td>3309</td>\n",
       "      <td>34545</td>\n",
       "      <td>0.122203</td>\n",
       "      <td>0.133293</td>\n",
       "      <td>-0.086869</td>\n",
       "      <td>-8.69</td>\n",
       "    </tr>\n",
       "    <tr>\n",
       "      <th>19</th>\n",
       "      <td>EXT_SOURCE_2_bins</td>\n",
       "      <td>0.5_0.6</td>\n",
       "      <td>61015</td>\n",
       "      <td>4397</td>\n",
       "      <td>56618</td>\n",
       "      <td>0.200286</td>\n",
       "      <td>0.177120</td>\n",
       "      <td>0.122919</td>\n",
       "      <td>12.29</td>\n",
       "    </tr>\n",
       "    <tr>\n",
       "      <th>20</th>\n",
       "      <td>EXT_SOURCE_2_bins</td>\n",
       "      <td>0.6_0.7</td>\n",
       "      <td>82426</td>\n",
       "      <td>4342</td>\n",
       "      <td>78084</td>\n",
       "      <td>0.276222</td>\n",
       "      <td>0.174904</td>\n",
       "      <td>0.456965</td>\n",
       "      <td>45.70</td>\n",
       "    </tr>\n",
       "    <tr>\n",
       "      <th>21</th>\n",
       "      <td>EXT_SOURCE_2_bins</td>\n",
       "      <td>0.7_0.8</td>\n",
       "      <td>46044</td>\n",
       "      <td>1531</td>\n",
       "      <td>44513</td>\n",
       "      <td>0.157464</td>\n",
       "      <td>0.061672</td>\n",
       "      <td>0.937375</td>\n",
       "      <td>93.74</td>\n",
       "    </tr>\n",
       "    <tr>\n",
       "      <th>22</th>\n",
       "      <td>EXT_SOURCE_2_bins</td>\n",
       "      <td>0.8_0.9</td>\n",
       "      <td>569</td>\n",
       "      <td>10</td>\n",
       "      <td>559</td>\n",
       "      <td>0.001977</td>\n",
       "      <td>0.000403</td>\n",
       "      <td>1.591079</td>\n",
       "      <td>159.11</td>\n",
       "    </tr>\n",
       "    <tr>\n",
       "      <th>23</th>\n",
       "      <td>EXT_SOURCE_2_bins</td>\n",
       "      <td>miss</td>\n",
       "      <td>660</td>\n",
       "      <td>52</td>\n",
       "      <td>608</td>\n",
       "      <td>0.002151</td>\n",
       "      <td>0.002095</td>\n",
       "      <td>0.026446</td>\n",
       "      <td>2.64</td>\n",
       "    </tr>\n",
       "    <tr>\n",
       "      <th>24</th>\n",
       "      <td>EXT_SOURCE_3_bins</td>\n",
       "      <td>0.0_0.1</td>\n",
       "      <td>5363</td>\n",
       "      <td>1412</td>\n",
       "      <td>3951</td>\n",
       "      <td>0.013977</td>\n",
       "      <td>0.056878</td>\n",
       "      <td>-1.403524</td>\n",
       "      <td>-140.35</td>\n",
       "    </tr>\n",
       "    <tr>\n",
       "      <th>25</th>\n",
       "      <td>EXT_SOURCE_3_bins</td>\n",
       "      <td>0.1_0.2</td>\n",
       "      <td>14151</td>\n",
       "      <td>2675</td>\n",
       "      <td>11476</td>\n",
       "      <td>0.040596</td>\n",
       "      <td>0.107754</td>\n",
       "      <td>-0.976177</td>\n",
       "      <td>-97.62</td>\n",
       "    </tr>\n",
       "    <tr>\n",
       "      <th>26</th>\n",
       "      <td>EXT_SOURCE_3_bins</td>\n",
       "      <td>0.2_0.3</td>\n",
       "      <td>21581</td>\n",
       "      <td>3030</td>\n",
       "      <td>18551</td>\n",
       "      <td>0.065624</td>\n",
       "      <td>0.122054</td>\n",
       "      <td>-0.620524</td>\n",
       "      <td>-62.05</td>\n",
       "    </tr>\n",
       "    <tr>\n",
       "      <th>27</th>\n",
       "      <td>EXT_SOURCE_3_bins</td>\n",
       "      <td>0.3_0.4</td>\n",
       "      <td>30491</td>\n",
       "      <td>3103</td>\n",
       "      <td>27388</td>\n",
       "      <td>0.096885</td>\n",
       "      <td>0.124995</td>\n",
       "      <td>-0.254750</td>\n",
       "      <td>-25.47</td>\n",
       "    </tr>\n",
       "    <tr>\n",
       "      <th>28</th>\n",
       "      <td>EXT_SOURCE_3_bins</td>\n",
       "      <td>0.4_0.5</td>\n",
       "      <td>36559</td>\n",
       "      <td>2824</td>\n",
       "      <td>33735</td>\n",
       "      <td>0.119337</td>\n",
       "      <td>0.113756</td>\n",
       "      <td>0.047896</td>\n",
       "      <td>4.79</td>\n",
       "    </tr>\n",
       "    <tr>\n",
       "      <th>29</th>\n",
       "      <td>EXT_SOURCE_3_bins</td>\n",
       "      <td>0.5_0.6</td>\n",
       "      <td>44218</td>\n",
       "      <td>2442</td>\n",
       "      <td>41776</td>\n",
       "      <td>0.147782</td>\n",
       "      <td>0.098369</td>\n",
       "      <td>0.407019</td>\n",
       "      <td>40.70</td>\n",
       "    </tr>\n",
       "    <tr>\n",
       "      <th>30</th>\n",
       "      <td>EXT_SOURCE_3_bins</td>\n",
       "      <td>0.6_0.7</td>\n",
       "      <td>47680</td>\n",
       "      <td>2107</td>\n",
       "      <td>45573</td>\n",
       "      <td>0.161214</td>\n",
       "      <td>0.084874</td>\n",
       "      <td>0.641565</td>\n",
       "      <td>64.16</td>\n",
       "    </tr>\n",
       "    <tr>\n",
       "      <th>...</th>\n",
       "      <td>...</td>\n",
       "      <td>...</td>\n",
       "      <td>...</td>\n",
       "      <td>...</td>\n",
       "      <td>...</td>\n",
       "      <td>...</td>\n",
       "      <td>...</td>\n",
       "      <td>...</td>\n",
       "      <td>...</td>\n",
       "    </tr>\n",
       "    <tr>\n",
       "      <th>33</th>\n",
       "      <td>EXT_SOURCE_3_bins</td>\n",
       "      <td>miss</td>\n",
       "      <td>60965</td>\n",
       "      <td>5677</td>\n",
       "      <td>55288</td>\n",
       "      <td>0.195581</td>\n",
       "      <td>0.228681</td>\n",
       "      <td>-0.156353</td>\n",
       "      <td>-15.64</td>\n",
       "    </tr>\n",
       "    <tr>\n",
       "      <th>34</th>\n",
       "      <td>NAME_EDUCATION_TYPE</td>\n",
       "      <td>Academic degree</td>\n",
       "      <td>164</td>\n",
       "      <td>3</td>\n",
       "      <td>161</td>\n",
       "      <td>0.000570</td>\n",
       "      <td>0.000121</td>\n",
       "      <td>1.550307</td>\n",
       "      <td>155.03</td>\n",
       "    </tr>\n",
       "    <tr>\n",
       "      <th>35</th>\n",
       "      <td>NAME_EDUCATION_TYPE</td>\n",
       "      <td>Higher education</td>\n",
       "      <td>74863</td>\n",
       "      <td>4009</td>\n",
       "      <td>70854</td>\n",
       "      <td>0.250646</td>\n",
       "      <td>0.161490</td>\n",
       "      <td>0.439594</td>\n",
       "      <td>43.96</td>\n",
       "    </tr>\n",
       "    <tr>\n",
       "      <th>36</th>\n",
       "      <td>NAME_EDUCATION_TYPE</td>\n",
       "      <td>Incomplete higher</td>\n",
       "      <td>10277</td>\n",
       "      <td>872</td>\n",
       "      <td>9405</td>\n",
       "      <td>0.033270</td>\n",
       "      <td>0.035126</td>\n",
       "      <td>-0.054278</td>\n",
       "      <td>-5.43</td>\n",
       "    </tr>\n",
       "    <tr>\n",
       "      <th>37</th>\n",
       "      <td>NAME_EDUCATION_TYPE</td>\n",
       "      <td>Lower secondary</td>\n",
       "      <td>3816</td>\n",
       "      <td>417</td>\n",
       "      <td>3399</td>\n",
       "      <td>0.012024</td>\n",
       "      <td>0.016798</td>\n",
       "      <td>-0.334335</td>\n",
       "      <td>-33.43</td>\n",
       "    </tr>\n",
       "    <tr>\n",
       "      <th>38</th>\n",
       "      <td>NAME_EDUCATION_TYPE</td>\n",
       "      <td>Secondary / secondary special</td>\n",
       "      <td>218391</td>\n",
       "      <td>19524</td>\n",
       "      <td>198867</td>\n",
       "      <td>0.703491</td>\n",
       "      <td>0.786465</td>\n",
       "      <td>-0.111494</td>\n",
       "      <td>-11.15</td>\n",
       "    </tr>\n",
       "    <tr>\n",
       "      <th>40</th>\n",
       "      <td>NAME_INCOME_TYPE</td>\n",
       "      <td>Commercial associate</td>\n",
       "      <td>71617</td>\n",
       "      <td>5360</td>\n",
       "      <td>66257</td>\n",
       "      <td>0.234384</td>\n",
       "      <td>0.215911</td>\n",
       "      <td>0.082092</td>\n",
       "      <td>8.21</td>\n",
       "    </tr>\n",
       "    <tr>\n",
       "      <th>41</th>\n",
       "      <td>NAME_INCOME_TYPE</td>\n",
       "      <td>Maternity leave</td>\n",
       "      <td>5</td>\n",
       "      <td>2</td>\n",
       "      <td>3</td>\n",
       "      <td>0.000011</td>\n",
       "      <td>0.000081</td>\n",
       "      <td>-2.027020</td>\n",
       "      <td>-202.70</td>\n",
       "    </tr>\n",
       "    <tr>\n",
       "      <th>42</th>\n",
       "      <td>NAME_INCOME_TYPE</td>\n",
       "      <td>Pensioner</td>\n",
       "      <td>55362</td>\n",
       "      <td>2982</td>\n",
       "      <td>52380</td>\n",
       "      <td>0.185294</td>\n",
       "      <td>0.120121</td>\n",
       "      <td>0.433445</td>\n",
       "      <td>43.34</td>\n",
       "    </tr>\n",
       "    <tr>\n",
       "      <th>43</th>\n",
       "      <td>NAME_INCOME_TYPE</td>\n",
       "      <td>State servant</td>\n",
       "      <td>21703</td>\n",
       "      <td>1249</td>\n",
       "      <td>20454</td>\n",
       "      <td>0.072356</td>\n",
       "      <td>0.050312</td>\n",
       "      <td>0.363350</td>\n",
       "      <td>36.33</td>\n",
       "    </tr>\n",
       "    <tr>\n",
       "      <th>45</th>\n",
       "      <td>NAME_INCOME_TYPE</td>\n",
       "      <td>Unemployed</td>\n",
       "      <td>22</td>\n",
       "      <td>8</td>\n",
       "      <td>14</td>\n",
       "      <td>0.000050</td>\n",
       "      <td>0.000322</td>\n",
       "      <td>-1.872870</td>\n",
       "      <td>-187.29</td>\n",
       "    </tr>\n",
       "    <tr>\n",
       "      <th>46</th>\n",
       "      <td>NAME_INCOME_TYPE</td>\n",
       "      <td>Working</td>\n",
       "      <td>158774</td>\n",
       "      <td>15224</td>\n",
       "      <td>143550</td>\n",
       "      <td>0.507807</td>\n",
       "      <td>0.613253</td>\n",
       "      <td>-0.188675</td>\n",
       "      <td>-18.87</td>\n",
       "    </tr>\n",
       "    <tr>\n",
       "      <th>47</th>\n",
       "      <td>REGION_RATING_CLIENT</td>\n",
       "      <td>1</td>\n",
       "      <td>32197</td>\n",
       "      <td>1552</td>\n",
       "      <td>30645</td>\n",
       "      <td>0.108407</td>\n",
       "      <td>0.062518</td>\n",
       "      <td>0.550440</td>\n",
       "      <td>55.04</td>\n",
       "    </tr>\n",
       "    <tr>\n",
       "      <th>48</th>\n",
       "      <td>REGION_RATING_CLIENT</td>\n",
       "      <td>2</td>\n",
       "      <td>226984</td>\n",
       "      <td>17907</td>\n",
       "      <td>209077</td>\n",
       "      <td>0.739609</td>\n",
       "      <td>0.721329</td>\n",
       "      <td>0.025025</td>\n",
       "      <td>2.50</td>\n",
       "    </tr>\n",
       "    <tr>\n",
       "      <th>49</th>\n",
       "      <td>REGION_RATING_CLIENT</td>\n",
       "      <td>3</td>\n",
       "      <td>48330</td>\n",
       "      <td>5366</td>\n",
       "      <td>42964</td>\n",
       "      <td>0.151985</td>\n",
       "      <td>0.216153</td>\n",
       "      <td>-0.352206</td>\n",
       "      <td>-35.22</td>\n",
       "    </tr>\n",
       "    <tr>\n",
       "      <th>50</th>\n",
       "      <td>REGION_RATING_CLIENT_W_CITY</td>\n",
       "      <td>1</td>\n",
       "      <td>34167</td>\n",
       "      <td>1654</td>\n",
       "      <td>32513</td>\n",
       "      <td>0.115015</td>\n",
       "      <td>0.066626</td>\n",
       "      <td>0.545958</td>\n",
       "      <td>54.60</td>\n",
       "    </tr>\n",
       "    <tr>\n",
       "      <th>51</th>\n",
       "      <td>REGION_RATING_CLIENT_W_CITY</td>\n",
       "      <td>2</td>\n",
       "      <td>229484</td>\n",
       "      <td>18170</td>\n",
       "      <td>211314</td>\n",
       "      <td>0.747522</td>\n",
       "      <td>0.731923</td>\n",
       "      <td>0.021088</td>\n",
       "      <td>2.11</td>\n",
       "    </tr>\n",
       "    <tr>\n",
       "      <th>52</th>\n",
       "      <td>REGION_RATING_CLIENT_W_CITY</td>\n",
       "      <td>3</td>\n",
       "      <td>43860</td>\n",
       "      <td>5001</td>\n",
       "      <td>38859</td>\n",
       "      <td>0.137463</td>\n",
       "      <td>0.201450</td>\n",
       "      <td>-0.382184</td>\n",
       "      <td>-38.22</td>\n",
       "    </tr>\n",
       "    <tr>\n",
       "      <th>53</th>\n",
       "      <td>YEARS_EMPLOYED_bins</td>\n",
       "      <td>0_5</td>\n",
       "      <td>136267</td>\n",
       "      <td>14405</td>\n",
       "      <td>121862</td>\n",
       "      <td>0.431086</td>\n",
       "      <td>0.580262</td>\n",
       "      <td>-0.297172</td>\n",
       "      <td>-29.72</td>\n",
       "    </tr>\n",
       "    <tr>\n",
       "      <th>54</th>\n",
       "      <td>YEARS_EMPLOYED_bins</td>\n",
       "      <td>10_20</td>\n",
       "      <td>38422</td>\n",
       "      <td>2119</td>\n",
       "      <td>36303</td>\n",
       "      <td>0.128422</td>\n",
       "      <td>0.085358</td>\n",
       "      <td>0.408471</td>\n",
       "      <td>40.85</td>\n",
       "    </tr>\n",
       "    <tr>\n",
       "      <th>55</th>\n",
       "      <td>YEARS_EMPLOYED_bins</td>\n",
       "      <td>20_30</td>\n",
       "      <td>9552</td>\n",
       "      <td>429</td>\n",
       "      <td>9123</td>\n",
       "      <td>0.032273</td>\n",
       "      <td>0.017281</td>\n",
       "      <td>0.624612</td>\n",
       "      <td>62.46</td>\n",
       "    </tr>\n",
       "    <tr>\n",
       "      <th>56</th>\n",
       "      <td>YEARS_EMPLOYED_bins</td>\n",
       "      <td>30_40</td>\n",
       "      <td>2772</td>\n",
       "      <td>96</td>\n",
       "      <td>2676</td>\n",
       "      <td>0.009466</td>\n",
       "      <td>0.003867</td>\n",
       "      <td>0.895245</td>\n",
       "      <td>89.52</td>\n",
       "    </tr>\n",
       "    <tr>\n",
       "      <th>57</th>\n",
       "      <td>YEARS_EMPLOYED_bins</td>\n",
       "      <td>40+</td>\n",
       "      <td>234</td>\n",
       "      <td>1</td>\n",
       "      <td>233</td>\n",
       "      <td>0.000824</td>\n",
       "      <td>0.000040</td>\n",
       "      <td>3.018553</td>\n",
       "      <td>301.86</td>\n",
       "    </tr>\n",
       "    <tr>\n",
       "      <th>58</th>\n",
       "      <td>YEARS_EMPLOYED_bins</td>\n",
       "      <td>5_10</td>\n",
       "      <td>64890</td>\n",
       "      <td>4785</td>\n",
       "      <td>60105</td>\n",
       "      <td>0.212621</td>\n",
       "      <td>0.192749</td>\n",
       "      <td>0.098121</td>\n",
       "      <td>9.81</td>\n",
       "    </tr>\n",
       "    <tr>\n",
       "      <th>59</th>\n",
       "      <td>YEARS_EMPLOYED_bins</td>\n",
       "      <td>miss</td>\n",
       "      <td>55374</td>\n",
       "      <td>2990</td>\n",
       "      <td>52384</td>\n",
       "      <td>0.185308</td>\n",
       "      <td>0.120443</td>\n",
       "      <td>0.430842</td>\n",
       "      <td>43.08</td>\n",
       "    </tr>\n",
       "    <tr>\n",
       "      <th>60</th>\n",
       "      <td>YEARS_OLD_bins</td>\n",
       "      <td>20_25</td>\n",
       "      <td>10134</td>\n",
       "      <td>1283</td>\n",
       "      <td>8851</td>\n",
       "      <td>0.031310</td>\n",
       "      <td>0.051682</td>\n",
       "      <td>-0.501156</td>\n",
       "      <td>-50.12</td>\n",
       "    </tr>\n",
       "    <tr>\n",
       "      <th>61</th>\n",
       "      <td>YEARS_OLD_bins</td>\n",
       "      <td>25_30</td>\n",
       "      <td>30959</td>\n",
       "      <td>3425</td>\n",
       "      <td>27534</td>\n",
       "      <td>0.097401</td>\n",
       "      <td>0.137966</td>\n",
       "      <td>-0.348165</td>\n",
       "      <td>-34.82</td>\n",
       "    </tr>\n",
       "    <tr>\n",
       "      <th>62</th>\n",
       "      <td>YEARS_OLD_bins</td>\n",
       "      <td>30_55</td>\n",
       "      <td>193825</td>\n",
       "      <td>16305</td>\n",
       "      <td>177520</td>\n",
       "      <td>0.627976</td>\n",
       "      <td>0.656798</td>\n",
       "      <td>-0.044874</td>\n",
       "      <td>-4.49</td>\n",
       "    </tr>\n",
       "    <tr>\n",
       "      <th>63</th>\n",
       "      <td>YEARS_OLD_bins</td>\n",
       "      <td>55_65</td>\n",
       "      <td>61832</td>\n",
       "      <td>3368</td>\n",
       "      <td>58464</td>\n",
       "      <td>0.206816</td>\n",
       "      <td>0.135670</td>\n",
       "      <td>0.421607</td>\n",
       "      <td>42.16</td>\n",
       "    </tr>\n",
       "    <tr>\n",
       "      <th>64</th>\n",
       "      <td>YEARS_OLD_bins</td>\n",
       "      <td>65+</td>\n",
       "      <td>10761</td>\n",
       "      <td>444</td>\n",
       "      <td>10317</td>\n",
       "      <td>0.036496</td>\n",
       "      <td>0.017885</td>\n",
       "      <td>0.713238</td>\n",
       "      <td>71.32</td>\n",
       "    </tr>\n",
       "  </tbody>\n",
       "</table>\n",
       "<p>62 rows × 9 columns</p>\n",
       "</div>"
      ],
      "text/plain": [
       "                 Characteristic                      Attribute   Count    BAD  \\\n",
       "0                   CODE_GENDER                              F  202448  14170   \n",
       "1                   CODE_GENDER                              M  105059  10655   \n",
       "3             EXT_SOURCE_1_bins                        0.0_0.1    2096    541   \n",
       "4             EXT_SOURCE_1_bins                        0.1_0.2    9565   1585   \n",
       "5             EXT_SOURCE_1_bins                        0.2_0.3   15798   1850   \n",
       "6             EXT_SOURCE_1_bins                        0.3_0.4   18744   1712   \n",
       "7             EXT_SOURCE_1_bins                        0.4_0.5   19676   1396   \n",
       "8             EXT_SOURCE_1_bins                        0.5_0.6   20026   1154   \n",
       "9             EXT_SOURCE_1_bins                        0.6_0.7   19464    937   \n",
       "10            EXT_SOURCE_1_bins                        0.7_0.8   17522    603   \n",
       "11            EXT_SOURCE_1_bins                        0.8_0.9   10435    263   \n",
       "12            EXT_SOURCE_1_bins                        0.9_1.0     807     13   \n",
       "13            EXT_SOURCE_1_bins                           miss  173378  14771   \n",
       "14            EXT_SOURCE_2_bins                        0.0_0.1   11365   2645   \n",
       "15            EXT_SOURCE_2_bins                        0.1_0.2   16500   2606   \n",
       "16            EXT_SOURCE_2_bins                        0.2_0.3   23709   2939   \n",
       "17            EXT_SOURCE_2_bins                        0.3_0.4   27369   2994   \n",
       "18            EXT_SOURCE_2_bins                        0.4_0.5   37854   3309   \n",
       "19            EXT_SOURCE_2_bins                        0.5_0.6   61015   4397   \n",
       "20            EXT_SOURCE_2_bins                        0.6_0.7   82426   4342   \n",
       "21            EXT_SOURCE_2_bins                        0.7_0.8   46044   1531   \n",
       "22            EXT_SOURCE_2_bins                        0.8_0.9     569     10   \n",
       "23            EXT_SOURCE_2_bins                           miss     660     52   \n",
       "24            EXT_SOURCE_3_bins                        0.0_0.1    5363   1412   \n",
       "25            EXT_SOURCE_3_bins                        0.1_0.2   14151   2675   \n",
       "26            EXT_SOURCE_3_bins                        0.2_0.3   21581   3030   \n",
       "27            EXT_SOURCE_3_bins                        0.3_0.4   30491   3103   \n",
       "28            EXT_SOURCE_3_bins                        0.4_0.5   36559   2824   \n",
       "29            EXT_SOURCE_3_bins                        0.5_0.6   44218   2442   \n",
       "30            EXT_SOURCE_3_bins                        0.6_0.7   47680   2107   \n",
       "..                          ...                            ...     ...    ...   \n",
       "33            EXT_SOURCE_3_bins                           miss   60965   5677   \n",
       "34          NAME_EDUCATION_TYPE                Academic degree     164      3   \n",
       "35          NAME_EDUCATION_TYPE               Higher education   74863   4009   \n",
       "36          NAME_EDUCATION_TYPE              Incomplete higher   10277    872   \n",
       "37          NAME_EDUCATION_TYPE                Lower secondary    3816    417   \n",
       "38          NAME_EDUCATION_TYPE  Secondary / secondary special  218391  19524   \n",
       "40             NAME_INCOME_TYPE           Commercial associate   71617   5360   \n",
       "41             NAME_INCOME_TYPE                Maternity leave       5      2   \n",
       "42             NAME_INCOME_TYPE                      Pensioner   55362   2982   \n",
       "43             NAME_INCOME_TYPE                  State servant   21703   1249   \n",
       "45             NAME_INCOME_TYPE                     Unemployed      22      8   \n",
       "46             NAME_INCOME_TYPE                        Working  158774  15224   \n",
       "47         REGION_RATING_CLIENT                              1   32197   1552   \n",
       "48         REGION_RATING_CLIENT                              2  226984  17907   \n",
       "49         REGION_RATING_CLIENT                              3   48330   5366   \n",
       "50  REGION_RATING_CLIENT_W_CITY                              1   34167   1654   \n",
       "51  REGION_RATING_CLIENT_W_CITY                              2  229484  18170   \n",
       "52  REGION_RATING_CLIENT_W_CITY                              3   43860   5001   \n",
       "53          YEARS_EMPLOYED_bins                            0_5  136267  14405   \n",
       "54          YEARS_EMPLOYED_bins                          10_20   38422   2119   \n",
       "55          YEARS_EMPLOYED_bins                          20_30    9552    429   \n",
       "56          YEARS_EMPLOYED_bins                          30_40    2772     96   \n",
       "57          YEARS_EMPLOYED_bins                            40+     234      1   \n",
       "58          YEARS_EMPLOYED_bins                           5_10   64890   4785   \n",
       "59          YEARS_EMPLOYED_bins                           miss   55374   2990   \n",
       "60               YEARS_OLD_bins                          20_25   10134   1283   \n",
       "61               YEARS_OLD_bins                          25_30   30959   3425   \n",
       "62               YEARS_OLD_bins                          30_55  193825  16305   \n",
       "63               YEARS_OLD_bins                          55_65   61832   3368   \n",
       "64               YEARS_OLD_bins                            65+   10761    444   \n",
       "\n",
       "      GOOD  Dist_GOOD  Dist_BAD   ln_ODDS     WOE  \n",
       "0   188278   0.666032  0.570796  0.154307   15.43  \n",
       "1    94404   0.333954  0.429204 -0.250931  -25.09  \n",
       "3     1555   0.005501  0.021793 -1.376674 -137.67  \n",
       "4     7980   0.028229  0.063847 -0.816132  -81.61  \n",
       "5    13948   0.049341  0.074522 -0.412335  -41.23  \n",
       "6    17032   0.060251  0.068963 -0.135054  -13.51  \n",
       "7    18280   0.064665  0.056234  0.139711   13.97  \n",
       "8    18872   0.066760  0.046485  0.361960   36.20  \n",
       "9    18527   0.065539  0.037744  0.551816   55.18  \n",
       "10   16919   0.059851  0.024290  0.901790   90.18  \n",
       "11   10172   0.035983  0.010594  1.222755  122.28  \n",
       "12     794   0.002809  0.000524  1.679649  167.96  \n",
       "13  158607   0.561071  0.595005 -0.058722   -5.87  \n",
       "14    8720   0.030847  0.106546 -1.239537 -123.95  \n",
       "15   13894   0.049150  0.104975 -0.758845  -75.88  \n",
       "16   20770   0.073474  0.118389 -0.477045  -47.70  \n",
       "17   24375   0.086226  0.120604 -0.335538  -33.55  \n",
       "18   34545   0.122203  0.133293 -0.086869   -8.69  \n",
       "19   56618   0.200286  0.177120  0.122919   12.29  \n",
       "20   78084   0.276222  0.174904  0.456965   45.70  \n",
       "21   44513   0.157464  0.061672  0.937375   93.74  \n",
       "22     559   0.001977  0.000403  1.591079  159.11  \n",
       "23     608   0.002151  0.002095  0.026446    2.64  \n",
       "24    3951   0.013977  0.056878 -1.403524 -140.35  \n",
       "25   11476   0.040596  0.107754 -0.976177  -97.62  \n",
       "26   18551   0.065624  0.122054 -0.620524  -62.05  \n",
       "27   27388   0.096885  0.124995 -0.254750  -25.47  \n",
       "28   33735   0.119337  0.113756  0.047896    4.79  \n",
       "29   41776   0.147782  0.098369  0.407019   40.70  \n",
       "30   45573   0.161214  0.084874  0.641565   64.16  \n",
       "..     ...        ...       ...       ...     ...  \n",
       "33   55288   0.195581  0.228681 -0.156353  -15.64  \n",
       "34     161   0.000570  0.000121  1.550307  155.03  \n",
       "35   70854   0.250646  0.161490  0.439594   43.96  \n",
       "36    9405   0.033270  0.035126 -0.054278   -5.43  \n",
       "37    3399   0.012024  0.016798 -0.334335  -33.43  \n",
       "38  198867   0.703491  0.786465 -0.111494  -11.15  \n",
       "40   66257   0.234384  0.215911  0.082092    8.21  \n",
       "41       3   0.000011  0.000081 -2.027020 -202.70  \n",
       "42   52380   0.185294  0.120121  0.433445   43.34  \n",
       "43   20454   0.072356  0.050312  0.363350   36.33  \n",
       "45      14   0.000050  0.000322 -1.872870 -187.29  \n",
       "46  143550   0.507807  0.613253 -0.188675  -18.87  \n",
       "47   30645   0.108407  0.062518  0.550440   55.04  \n",
       "48  209077   0.739609  0.721329  0.025025    2.50  \n",
       "49   42964   0.151985  0.216153 -0.352206  -35.22  \n",
       "50   32513   0.115015  0.066626  0.545958   54.60  \n",
       "51  211314   0.747522  0.731923  0.021088    2.11  \n",
       "52   38859   0.137463  0.201450 -0.382184  -38.22  \n",
       "53  121862   0.431086  0.580262 -0.297172  -29.72  \n",
       "54   36303   0.128422  0.085358  0.408471   40.85  \n",
       "55    9123   0.032273  0.017281  0.624612   62.46  \n",
       "56    2676   0.009466  0.003867  0.895245   89.52  \n",
       "57     233   0.000824  0.000040  3.018553  301.86  \n",
       "58   60105   0.212621  0.192749  0.098121    9.81  \n",
       "59   52384   0.185308  0.120443  0.430842   43.08  \n",
       "60    8851   0.031310  0.051682 -0.501156  -50.12  \n",
       "61   27534   0.097401  0.137966 -0.348165  -34.82  \n",
       "62  177520   0.627976  0.656798 -0.044874   -4.49  \n",
       "63   58464   0.206816  0.135670  0.421607   42.16  \n",
       "64   10317   0.036496  0.017885  0.713238   71.32  \n",
       "\n",
       "[62 rows x 9 columns]"
      ]
     },
     "execution_count": 37,
     "metadata": {},
     "output_type": "execute_result"
    }
   ],
   "source": [
    "#Total dataset bad and good\n",
    "BAD=IV_WOE_data[\"TARGET\"].sum()\n",
    "GOOD=(1-IV_WOE_data[\"TARGET\"]).sum()\n",
    "\n",
    "#attribute good\n",
    "WOE[\"GOOD\"]=WOE[\"Count\"]-WOE[\"BAD\"]\n",
    "\n",
    "#proportion of dataset Good/Bad corresponding to attribute\n",
    "WOE[\"Dist_GOOD\"]=WOE[\"GOOD\"]/GOOD\n",
    "WOE[\"Dist_BAD\"]=WOE[\"BAD\"]/BAD\n",
    "\n",
    "#log of the ratio of these proportions\n",
    "WOE[\"ln_ODDS\"]=np.log(WOE[\"Dist_GOOD\"]/WOE[\"Dist_BAD\"])\n",
    "\n",
    "#WOE!\n",
    "WOE[\"WOE\"]=round(WOE[\"ln_ODDS\"]*100, 2)\n",
    "\n",
    "# We need to select groups with more than one bad so that we don't end up with infintesimals\n",
    "WOE=WOE[WOE.BAD>0].sort_values([\"Characteristic\", \"Attribute\"])\n",
    "\n",
    "WOE.head(len(WOE))"
   ]
  },
  {
   "cell_type": "markdown",
   "metadata": {},
   "source": [
    "We can see above that for the numeric variables we have binned, the WOE value increases in proportion to the value of the variable. Which makes sense, since we saw when we were binning that higher bad rates were associated with lower values of these variables and vice versa. \n",
    "\n",
    "Below we can see the neat, convex relationship between WOE and the bad probability of each attribute; attributes at the extremes have a stronger bearing on whether the subject will be good/bad:"
   ]
  },
  {
   "cell_type": "code",
   "execution_count": 38,
   "metadata": {},
   "outputs": [
    {
     "data": {
      "image/png": "[encoded data removed]",
      "text/plain": [
       "<matplotlib.figure.Figure at 0x1b88cb88908>"
      ]
     },
     "metadata": {},
     "output_type": "display_data"
    }
   ],
   "source": [
    "WOE_odds=WOE\n",
    "WOE_odds[\"PROB\"]=WOE_odds[\"BAD\"]/(WOE_odds[\"BAD\"]+WOE_odds[\"GOOD\"])\n",
    "plt.scatter(x=WOE_odds[\"WOE\"], y=WOE_odds[\"PROB\"], s=10);\n",
    "plt.title(\"WOE vs Bad Probability\")\n",
    "plt.xlabel(\"WOE\")\n",
    "plt.ylabel(\"Bad Probability\");"
   ]
  },
  {
   "cell_type": "markdown",
   "metadata": {},
   "source": [
    "## Information Value"
   ]
  },
  {
   "cell_type": "markdown",
   "metadata": {},
   "source": [
    "Information Value is a characteristic-level metric used to measure the \"predictive strength\" of the characteristic. \n",
    "\n",
    "For each of a characteristic's attribute, the difference between the Good and Bad population proportions is taken and multiplied by log odds; this is summed across attributes to give the characteristic-level figure. \n",
    "\n",
    "This calculation reconciles the signs (if population Good proportion> populaion Bad proportion then WOE>0, and vice versa) and then essentially weights each attribute's log odds by how \"big\" the attribute is in relation the dataset. "
   ]
  },
  {
   "cell_type": "code",
   "execution_count": 39,
   "metadata": {},
   "outputs": [],
   "source": [
    "IV=WOE[[\"Characteristic\", \"Attribute\", \"Dist_GOOD\", \"Dist_BAD\", \"ln_ODDS\", \"WOE\"]]\n",
    "IV[\"Dist_DIFF\"]=IV[\"Dist_GOOD\"]-IV[\"Dist_BAD\"]\n",
    "#\"Margin Information Value\" of each attribute\n",
    "IV[\"Marg_IV\"]=IV[\"Dist_DIFF\"]*IV[\"ln_ODDS\"]"
   ]
  },
  {
   "cell_type": "code",
   "execution_count": 40,
   "metadata": {},
   "outputs": [
    {
     "data": {
      "text/html": [
       "<div>\n",
       "<style scoped>\n",
       "    .dataframe tbody tr th:only-of-type {\n",
       "        vertical-align: middle;\n",
       "    }\n",
       "\n",
       "    .dataframe tbody tr th {\n",
       "        vertical-align: top;\n",
       "    }\n",
       "\n",
       "    .dataframe thead th {\n",
       "        text-align: right;\n",
       "    }\n",
       "</style>\n",
       "<table border=\"1\" class=\"dataframe\">\n",
       "  <thead>\n",
       "    <tr style=\"text-align: right;\">\n",
       "      <th></th>\n",
       "      <th>Characteristic</th>\n",
       "      <th>Attribute</th>\n",
       "      <th>Dist_GOOD</th>\n",
       "      <th>Dist_BAD</th>\n",
       "      <th>ln_ODDS</th>\n",
       "      <th>WOE</th>\n",
       "      <th>Dist_DIFF</th>\n",
       "      <th>Marg_IV</th>\n",
       "    </tr>\n",
       "  </thead>\n",
       "  <tbody>\n",
       "    <tr>\n",
       "      <th>14</th>\n",
       "      <td>EXT_SOURCE_2_bins</td>\n",
       "      <td>0.0_0.1</td>\n",
       "      <td>0.030847</td>\n",
       "      <td>0.106546</td>\n",
       "      <td>-1.239537</td>\n",
       "      <td>-123.95</td>\n",
       "      <td>-0.075699</td>\n",
       "      <td>0.093832</td>\n",
       "    </tr>\n",
       "    <tr>\n",
       "      <th>21</th>\n",
       "      <td>EXT_SOURCE_2_bins</td>\n",
       "      <td>0.7_0.8</td>\n",
       "      <td>0.157464</td>\n",
       "      <td>0.061672</td>\n",
       "      <td>0.937375</td>\n",
       "      <td>93.74</td>\n",
       "      <td>0.095793</td>\n",
       "      <td>0.089794</td>\n",
       "    </tr>\n",
       "    <tr>\n",
       "      <th>31</th>\n",
       "      <td>EXT_SOURCE_3_bins</td>\n",
       "      <td>0.7_0.8</td>\n",
       "      <td>0.127191</td>\n",
       "      <td>0.051923</td>\n",
       "      <td>0.895916</td>\n",
       "      <td>89.59</td>\n",
       "      <td>0.075267</td>\n",
       "      <td>0.067433</td>\n",
       "    </tr>\n",
       "    <tr>\n",
       "      <th>25</th>\n",
       "      <td>EXT_SOURCE_3_bins</td>\n",
       "      <td>0.1_0.2</td>\n",
       "      <td>0.040596</td>\n",
       "      <td>0.107754</td>\n",
       "      <td>-0.976177</td>\n",
       "      <td>-97.62</td>\n",
       "      <td>-0.067158</td>\n",
       "      <td>0.065558</td>\n",
       "    </tr>\n",
       "    <tr>\n",
       "      <th>24</th>\n",
       "      <td>EXT_SOURCE_3_bins</td>\n",
       "      <td>0.0_0.1</td>\n",
       "      <td>0.013977</td>\n",
       "      <td>0.056878</td>\n",
       "      <td>-1.403524</td>\n",
       "      <td>-140.35</td>\n",
       "      <td>-0.042902</td>\n",
       "      <td>0.060213</td>\n",
       "    </tr>\n",
       "  </tbody>\n",
       "</table>\n",
       "</div>"
      ],
      "text/plain": [
       "       Characteristic Attribute  Dist_GOOD  Dist_BAD   ln_ODDS     WOE  \\\n",
       "14  EXT_SOURCE_2_bins   0.0_0.1   0.030847  0.106546 -1.239537 -123.95   \n",
       "21  EXT_SOURCE_2_bins   0.7_0.8   0.157464  0.061672  0.937375   93.74   \n",
       "31  EXT_SOURCE_3_bins   0.7_0.8   0.127191  0.051923  0.895916   89.59   \n",
       "25  EXT_SOURCE_3_bins   0.1_0.2   0.040596  0.107754 -0.976177  -97.62   \n",
       "24  EXT_SOURCE_3_bins   0.0_0.1   0.013977  0.056878 -1.403524 -140.35   \n",
       "\n",
       "    Dist_DIFF   Marg_IV  \n",
       "14  -0.075699  0.093832  \n",
       "21   0.095793  0.089794  \n",
       "31   0.075267  0.067433  \n",
       "25  -0.067158  0.065558  \n",
       "24  -0.042902  0.060213  "
      ]
     },
     "execution_count": 40,
     "metadata": {},
     "output_type": "execute_result"
    }
   ],
   "source": [
    "IV.sort_values(by=\"Marg_IV\", ascending=False).head()"
   ]
  },
  {
   "cell_type": "code",
   "execution_count": 41,
   "metadata": {},
   "outputs": [
    {
     "data": {
      "text/html": [
       "<div>\n",
       "<style scoped>\n",
       "    .dataframe tbody tr th:only-of-type {\n",
       "        vertical-align: middle;\n",
       "    }\n",
       "\n",
       "    .dataframe tbody tr th {\n",
       "        vertical-align: top;\n",
       "    }\n",
       "\n",
       "    .dataframe thead th {\n",
       "        text-align: right;\n",
       "    }\n",
       "</style>\n",
       "<table border=\"1\" class=\"dataframe\">\n",
       "  <thead>\n",
       "    <tr style=\"text-align: right;\">\n",
       "      <th></th>\n",
       "      <th>Characteristic</th>\n",
       "      <th>Attribute</th>\n",
       "      <th>Dist_GOOD</th>\n",
       "      <th>Dist_BAD</th>\n",
       "      <th>ln_ODDS</th>\n",
       "      <th>WOE</th>\n",
       "      <th>Dist_DIFF</th>\n",
       "      <th>Marg_IV</th>\n",
       "    </tr>\n",
       "  </thead>\n",
       "  <tbody>\n",
       "    <tr>\n",
       "      <th>51</th>\n",
       "      <td>REGION_RATING_CLIENT_W_CITY</td>\n",
       "      <td>2</td>\n",
       "      <td>0.747522</td>\n",
       "      <td>0.731923</td>\n",
       "      <td>0.021088</td>\n",
       "      <td>2.11</td>\n",
       "      <td>0.015599</td>\n",
       "      <td>0.000329</td>\n",
       "    </tr>\n",
       "    <tr>\n",
       "      <th>28</th>\n",
       "      <td>EXT_SOURCE_3_bins</td>\n",
       "      <td>0.4_0.5</td>\n",
       "      <td>0.119337</td>\n",
       "      <td>0.113756</td>\n",
       "      <td>0.047896</td>\n",
       "      <td>4.79</td>\n",
       "      <td>0.005581</td>\n",
       "      <td>0.000267</td>\n",
       "    </tr>\n",
       "    <tr>\n",
       "      <th>41</th>\n",
       "      <td>NAME_INCOME_TYPE</td>\n",
       "      <td>Maternity leave</td>\n",
       "      <td>0.000011</td>\n",
       "      <td>0.000081</td>\n",
       "      <td>-2.027020</td>\n",
       "      <td>-202.70</td>\n",
       "      <td>-0.000070</td>\n",
       "      <td>0.000142</td>\n",
       "    </tr>\n",
       "    <tr>\n",
       "      <th>36</th>\n",
       "      <td>NAME_EDUCATION_TYPE</td>\n",
       "      <td>Incomplete higher</td>\n",
       "      <td>0.033270</td>\n",
       "      <td>0.035126</td>\n",
       "      <td>-0.054278</td>\n",
       "      <td>-5.43</td>\n",
       "      <td>-0.001856</td>\n",
       "      <td>0.000101</td>\n",
       "    </tr>\n",
       "    <tr>\n",
       "      <th>23</th>\n",
       "      <td>EXT_SOURCE_2_bins</td>\n",
       "      <td>miss</td>\n",
       "      <td>0.002151</td>\n",
       "      <td>0.002095</td>\n",
       "      <td>0.026446</td>\n",
       "      <td>2.64</td>\n",
       "      <td>0.000056</td>\n",
       "      <td>0.000001</td>\n",
       "    </tr>\n",
       "  </tbody>\n",
       "</table>\n",
       "</div>"
      ],
      "text/plain": [
       "                 Characteristic          Attribute  Dist_GOOD  Dist_BAD  \\\n",
       "51  REGION_RATING_CLIENT_W_CITY                  2   0.747522  0.731923   \n",
       "28            EXT_SOURCE_3_bins            0.4_0.5   0.119337  0.113756   \n",
       "41             NAME_INCOME_TYPE    Maternity leave   0.000011  0.000081   \n",
       "36          NAME_EDUCATION_TYPE  Incomplete higher   0.033270  0.035126   \n",
       "23            EXT_SOURCE_2_bins               miss   0.002151  0.002095   \n",
       "\n",
       "     ln_ODDS     WOE  Dist_DIFF   Marg_IV  \n",
       "51  0.021088    2.11   0.015599  0.000329  \n",
       "28  0.047896    4.79   0.005581  0.000267  \n",
       "41 -2.027020 -202.70  -0.000070  0.000142  \n",
       "36 -0.054278   -5.43  -0.001856  0.000101  \n",
       "23  0.026446    2.64   0.000056  0.000001  "
      ]
     },
     "execution_count": 41,
     "metadata": {},
     "output_type": "execute_result"
    }
   ],
   "source": [
    "IV.sort_values(by=\"Marg_IV\", ascending=False).tail()"
   ]
  },
  {
   "cell_type": "markdown",
   "metadata": {},
   "source": [
    "We can see that our external data sources are going to be doing a lot of the heavy lifting:"
   ]
  },
  {
   "cell_type": "code",
   "execution_count": 42,
   "metadata": {},
   "outputs": [
    {
     "data": {
      "text/html": [
       "<div>\n",
       "<style scoped>\n",
       "    .dataframe tbody tr th:only-of-type {\n",
       "        vertical-align: middle;\n",
       "    }\n",
       "\n",
       "    .dataframe tbody tr th {\n",
       "        vertical-align: top;\n",
       "    }\n",
       "\n",
       "    .dataframe thead th {\n",
       "        text-align: right;\n",
       "    }\n",
       "</style>\n",
       "<table border=\"1\" class=\"dataframe\">\n",
       "  <thead>\n",
       "    <tr style=\"text-align: right;\">\n",
       "      <th></th>\n",
       "      <th>IV</th>\n",
       "    </tr>\n",
       "    <tr>\n",
       "      <th>Characteristic</th>\n",
       "      <th></th>\n",
       "    </tr>\n",
       "  </thead>\n",
       "  <tbody>\n",
       "    <tr>\n",
       "      <th>EXT_SOURCE_3_bins</th>\n",
       "      <td>0.332873</td>\n",
       "    </tr>\n",
       "    <tr>\n",
       "      <th>EXT_SOURCE_2_bins</th>\n",
       "      <td>0.311565</td>\n",
       "    </tr>\n",
       "    <tr>\n",
       "      <th>EXT_SOURCE_1_bins</th>\n",
       "      <td>0.155855</td>\n",
       "    </tr>\n",
       "    <tr>\n",
       "      <th>YEARS_EMPLOYED_bins</th>\n",
       "      <td>0.108561</td>\n",
       "    </tr>\n",
       "    <tr>\n",
       "      <th>YEARS_OLD_bins</th>\n",
       "      <td>0.068896</td>\n",
       "    </tr>\n",
       "    <tr>\n",
       "      <th>NAME_INCOME_TYPE</th>\n",
       "      <td>0.058322</td>\n",
       "    </tr>\n",
       "    <tr>\n",
       "      <th>REGION_RATING_CLIENT_W_CITY</th>\n",
       "      <td>0.051201</td>\n",
       "    </tr>\n",
       "    <tr>\n",
       "      <th>NAME_EDUCATION_TYPE</th>\n",
       "      <td>0.050836</td>\n",
       "    </tr>\n",
       "    <tr>\n",
       "      <th>REGION_RATING_CLIENT</th>\n",
       "      <td>0.048317</td>\n",
       "    </tr>\n",
       "    <tr>\n",
       "      <th>CODE_GENDER</th>\n",
       "      <td>0.038597</td>\n",
       "    </tr>\n",
       "  </tbody>\n",
       "</table>\n",
       "</div>"
      ],
      "text/plain": [
       "                                   IV\n",
       "Characteristic                       \n",
       "EXT_SOURCE_3_bins            0.332873\n",
       "EXT_SOURCE_2_bins            0.311565\n",
       "EXT_SOURCE_1_bins            0.155855\n",
       "YEARS_EMPLOYED_bins          0.108561\n",
       "YEARS_OLD_bins               0.068896\n",
       "NAME_INCOME_TYPE             0.058322\n",
       "REGION_RATING_CLIENT_W_CITY  0.051201\n",
       "NAME_EDUCATION_TYPE          0.050836\n",
       "REGION_RATING_CLIENT         0.048317\n",
       "CODE_GENDER                  0.038597"
      ]
     },
     "execution_count": 42,
     "metadata": {},
     "output_type": "execute_result"
    }
   ],
   "source": [
    "IV=WOE\n",
    "IV[\"Dist_DIFF\"]=IV[\"Dist_GOOD\"]-IV[\"Dist_BAD\"]\n",
    "IV[\"Marg_IV\"]=IV[\"Dist_DIFF\"]*IV[\"ln_ODDS\"]\n",
    "IV=IV[[\"Characteristic\", \"Marg_IV\"]].groupby(\"Characteristic\").sum().rename(columns={\"Marg_IV\":\"IV\"})\n",
    "IV.sort_values(by=\"IV\", ascending=False).head(len(IV))"
   ]
  },
  {
   "cell_type": "markdown",
   "metadata": {},
   "source": [
    "## Scoring and Modelling"
   ]
  },
  {
   "cell_type": "markdown",
   "metadata": {},
   "source": [
    "### Introduction"
   ]
  },
  {
   "cell_type": "markdown",
   "metadata": {},
   "source": [
    "We can now  try scoring and modelling our attributes. \n",
    "\n",
    "Our objectives are:\n",
    "\n",
    "1) To estimate bad probabilities to applicants which accurately reflect their actual probability of default.\n",
    "\n",
    "2) To assign scores to attributes which, when summed by applicant, accurately reflect their estimated bad probability.  \n",
    "\n",
    "3) To align the above with other operational considerations.\n",
    "\n",
    "With regards to the last point, our main goal is to have a scoring and modelling scheme which can provide straightforward answers to the kind  of quesions which will commonly be asked of it: customers and operational staff need to know how a score was calculated; managers need to understand the underlying reasons behind portfolio-level trends and variations. \n",
    "\n",
    "An initial consideration is whether we want to use encoded binary variables or WOE values as our input data. if the latter, and we are using a modelling method which estimates characteristic-level paramters (such as logistic regression), then we can potentially calculate score by weighting log odds by the estimated parameter. \n",
    "\n",
    "We'll begin by trying some combinations to see how they fare in terms of our objectives. We'll then consider what other modelling methods such as decision trees, ensemble methods and boosting could bring to the table.  "
   ]
  },
  {
   "cell_type": "markdown",
   "metadata": {},
   "source": [
    "### Odds Scoring"
   ]
  },
  {
   "cell_type": "markdown",
   "metadata": {},
   "source": [
    "We'll set up our initial scores as a linear transformation of WOE, via some parmeters:"
   ]
  },
  {
   "cell_type": "code",
   "execution_count": 43,
   "metadata": {},
   "outputs": [
    {
     "name": "stdout",
     "output_type": "stream",
     "text": [
      "Factor = 14.426950408889635\n",
      "Offset =  56.780719051126376\n",
      "Mean score = 58.17129032258064\n"
     ]
    }
   ],
   "source": [
    "Score=WOE[[\"Characteristic\", \"Attribute\", \"ln_ODDS\", \"WOE\"]]\n",
    "\n",
    "#\"Points to double odds\" \n",
    "PDO=10\n",
    "\n",
    "FACTOR=PDO/np.log(2)\n",
    "print(\"Factor = \" + str(FACTOR))\n",
    "#Odds ratio and mid-point: odds at 20:1 for points=100 and doubling every 10 points\n",
    "OR=20\n",
    "MID=100\n",
    "OFFSET=MID-FACTOR*np.log(OR)\n",
    "\n",
    "print(\"Offset =  \" + str(OFFSET))\n",
    "\n",
    "Score[\"Odds Score\"]=round(OFFSET+FACTOR*Score[\"ln_ODDS\"], 2)\n",
    "\n",
    "print(\"Mean score = \" + str(np.mean(Score[\"Odds Score\"])))"
   ]
  },
  {
   "cell_type": "code",
   "execution_count": 44,
   "metadata": {},
   "outputs": [
    {
     "data": {
      "text/html": [
       "<div>\n",
       "<style scoped>\n",
       "    .dataframe tbody tr th:only-of-type {\n",
       "        vertical-align: middle;\n",
       "    }\n",
       "\n",
       "    .dataframe tbody tr th {\n",
       "        vertical-align: top;\n",
       "    }\n",
       "\n",
       "    .dataframe thead th {\n",
       "        text-align: right;\n",
       "    }\n",
       "</style>\n",
       "<table border=\"1\" class=\"dataframe\">\n",
       "  <thead>\n",
       "    <tr style=\"text-align: right;\">\n",
       "      <th></th>\n",
       "      <th>Characteristic</th>\n",
       "      <th>Attribute</th>\n",
       "      <th>ln_ODDS</th>\n",
       "      <th>WOE</th>\n",
       "      <th>Odds Score</th>\n",
       "    </tr>\n",
       "  </thead>\n",
       "  <tbody>\n",
       "    <tr>\n",
       "      <th>57</th>\n",
       "      <td>YEARS_EMPLOYED_bins</td>\n",
       "      <td>40+</td>\n",
       "      <td>3.018553</td>\n",
       "      <td>301.86</td>\n",
       "      <td>100.33</td>\n",
       "    </tr>\n",
       "    <tr>\n",
       "      <th>12</th>\n",
       "      <td>EXT_SOURCE_1_bins</td>\n",
       "      <td>0.9_1.0</td>\n",
       "      <td>1.679649</td>\n",
       "      <td>167.96</td>\n",
       "      <td>81.01</td>\n",
       "    </tr>\n",
       "    <tr>\n",
       "      <th>22</th>\n",
       "      <td>EXT_SOURCE_2_bins</td>\n",
       "      <td>0.8_0.9</td>\n",
       "      <td>1.591079</td>\n",
       "      <td>159.11</td>\n",
       "      <td>79.74</td>\n",
       "    </tr>\n",
       "    <tr>\n",
       "      <th>34</th>\n",
       "      <td>NAME_EDUCATION_TYPE</td>\n",
       "      <td>Academic degree</td>\n",
       "      <td>1.550307</td>\n",
       "      <td>155.03</td>\n",
       "      <td>79.15</td>\n",
       "    </tr>\n",
       "    <tr>\n",
       "      <th>11</th>\n",
       "      <td>EXT_SOURCE_1_bins</td>\n",
       "      <td>0.8_0.9</td>\n",
       "      <td>1.222755</td>\n",
       "      <td>122.28</td>\n",
       "      <td>74.42</td>\n",
       "    </tr>\n",
       "  </tbody>\n",
       "</table>\n",
       "</div>"
      ],
      "text/plain": [
       "         Characteristic        Attribute   ln_ODDS     WOE  Odds Score\n",
       "57  YEARS_EMPLOYED_bins              40+  3.018553  301.86      100.33\n",
       "12    EXT_SOURCE_1_bins          0.9_1.0  1.679649  167.96       81.01\n",
       "22    EXT_SOURCE_2_bins          0.8_0.9  1.591079  159.11       79.74\n",
       "34  NAME_EDUCATION_TYPE  Academic degree  1.550307  155.03       79.15\n",
       "11    EXT_SOURCE_1_bins          0.8_0.9  1.222755  122.28       74.42"
      ]
     },
     "execution_count": 44,
     "metadata": {},
     "output_type": "execute_result"
    }
   ],
   "source": [
    "Score.sort_values(by=\"Odds Score\", ascending=False).head()"
   ]
  },
  {
   "cell_type": "code",
   "execution_count": 45,
   "metadata": {},
   "outputs": [
    {
     "data": {
      "text/html": [
       "<div>\n",
       "<style scoped>\n",
       "    .dataframe tbody tr th:only-of-type {\n",
       "        vertical-align: middle;\n",
       "    }\n",
       "\n",
       "    .dataframe tbody tr th {\n",
       "        vertical-align: top;\n",
       "    }\n",
       "\n",
       "    .dataframe thead th {\n",
       "        text-align: right;\n",
       "    }\n",
       "</style>\n",
       "<table border=\"1\" class=\"dataframe\">\n",
       "  <thead>\n",
       "    <tr style=\"text-align: right;\">\n",
       "      <th></th>\n",
       "      <th>Characteristic</th>\n",
       "      <th>Attribute</th>\n",
       "      <th>ln_ODDS</th>\n",
       "      <th>WOE</th>\n",
       "      <th>Odds Score</th>\n",
       "    </tr>\n",
       "  </thead>\n",
       "  <tbody>\n",
       "    <tr>\n",
       "      <th>14</th>\n",
       "      <td>EXT_SOURCE_2_bins</td>\n",
       "      <td>0.0_0.1</td>\n",
       "      <td>-1.239537</td>\n",
       "      <td>-123.95</td>\n",
       "      <td>38.90</td>\n",
       "    </tr>\n",
       "    <tr>\n",
       "      <th>3</th>\n",
       "      <td>EXT_SOURCE_1_bins</td>\n",
       "      <td>0.0_0.1</td>\n",
       "      <td>-1.376674</td>\n",
       "      <td>-137.67</td>\n",
       "      <td>36.92</td>\n",
       "    </tr>\n",
       "    <tr>\n",
       "      <th>24</th>\n",
       "      <td>EXT_SOURCE_3_bins</td>\n",
       "      <td>0.0_0.1</td>\n",
       "      <td>-1.403524</td>\n",
       "      <td>-140.35</td>\n",
       "      <td>36.53</td>\n",
       "    </tr>\n",
       "    <tr>\n",
       "      <th>45</th>\n",
       "      <td>NAME_INCOME_TYPE</td>\n",
       "      <td>Unemployed</td>\n",
       "      <td>-1.872870</td>\n",
       "      <td>-187.29</td>\n",
       "      <td>29.76</td>\n",
       "    </tr>\n",
       "    <tr>\n",
       "      <th>41</th>\n",
       "      <td>NAME_INCOME_TYPE</td>\n",
       "      <td>Maternity leave</td>\n",
       "      <td>-2.027020</td>\n",
       "      <td>-202.70</td>\n",
       "      <td>27.54</td>\n",
       "    </tr>\n",
       "  </tbody>\n",
       "</table>\n",
       "</div>"
      ],
      "text/plain": [
       "       Characteristic        Attribute   ln_ODDS     WOE  Odds Score\n",
       "14  EXT_SOURCE_2_bins          0.0_0.1 -1.239537 -123.95       38.90\n",
       "3   EXT_SOURCE_1_bins          0.0_0.1 -1.376674 -137.67       36.92\n",
       "24  EXT_SOURCE_3_bins          0.0_0.1 -1.403524 -140.35       36.53\n",
       "45   NAME_INCOME_TYPE       Unemployed -1.872870 -187.29       29.76\n",
       "41   NAME_INCOME_TYPE  Maternity leave -2.027020 -202.70       27.54"
      ]
     },
     "execution_count": 45,
     "metadata": {},
     "output_type": "execute_result"
    }
   ],
   "source": [
    "Score.sort_values(by=\"Odds Score\", ascending=False).tail()"
   ]
  },
  {
   "cell_type": "markdown",
   "metadata": {},
   "source": [
    "Joining the above scores to subjects and plotting the distributions of Bads/Goods, we can see that our scoring system is behaving as expected, with a somewhat lower mean for Bad sbbjects. There is however greater overlap between the distributions than we might prefer:"
   ]
  },
  {
   "cell_type": "code",
   "execution_count": 46,
   "metadata": {},
   "outputs": [
    {
     "data": {
      "text/plain": [
       "Text(0.5,0,'Score')"
      ]
     },
     "execution_count": 46,
     "metadata": {},
     "output_type": "execute_result"
    },
    {
     "data": {
      "image/png": "[encoded data removed]",
      "text/plain": [
       "<matplotlib.figure.Figure at 0x1b88309acc0>"
      ]
     },
     "metadata": {},
     "output_type": "display_data"
    }
   ],
   "source": [
    "import seaborn as sns\n",
    "Sub_Scores=pd.merge(IV_WOE, Score[[\"Odds Score\", \"Characteristic\", \"Attribute\"]], on=[\"Characteristic\", \"Attribute\"], how=\"left\")\n",
    "Sub_Scores_sum=pd.merge(Sub_Scores.drop(columns=\"Odds Score\"), Sub_Scores[[\"index\", \"Odds Score\"]].groupby(\"index\").sum().reset_index(), on=\"index\")[[\"index\", \"Odds Score\", \"TARGET\"]].drop_duplicates().reset_index().drop(columns='level_0')\n",
    "\n",
    "sns.kdeplot(Sub_Scores_sum.loc[Sub_Scores_sum['TARGET'] == 0, \"Odds Score\"], label = 'Good');\n",
    "sns.kdeplot(Sub_Scores_sum.loc[Sub_Scores_sum['TARGET'] == 1, \"Odds Score\"], label = 'Bad');\n",
    "plt.title(\"Good/Bad Score Distributions\")\n",
    "plt.xlabel(\"Score\")"
   ]
  },
  {
   "cell_type": "markdown",
   "metadata": {},
   "source": [
    "The most import measure of model success will to look at how well the model estimates bad probability. The purpose of a model is not good/bad decisioning (this is what the scorecard is for), or to predict if an existing customer is going to go bad (unless it is tracking balances, or some other external data source) since no successful applicants are going to be predicted bads at the outset. Rather, the model's main focus is going to be predicting portfolio outcomes. The number of expected bads in a portfolio will simply be calculated from the sum of bad probabilities. If more successful applicants go bad than expected, then this could have severely adverse business consequences; if fewer go bad then this means that the reject threshold was set too high, and that the organisation has not written as much business as it could have.\n",
    "\n",
    "ROC-AUC will also be a useful metric. This measures how true positive rate varies with decision threshold, with an ROC-AUC score of 1 indicating that the model is insensitive to decision threshold and will identify true positives without also flagging lots of false positives. \n",
    "\n",
    "Precision and recall will also be useful: if the above are not good, these will indicate if this because we are overestimating or underestimating bad probabilities. \n",
    "\n",
    "Accuracy will not be very useful in this case because our bad rate is generally low (8%), so a decent accuracy score can be achieved without really doing anything. \n",
    "\n",
    "Creating a function to evaluate binary classifiers in this manner:"
   ]
  },
  {
   "cell_type": "code",
   "execution_count": 47,
   "metadata": {},
   "outputs": [],
   "source": [
    "from sklearn.metrics import precision_score, recall_score, f1_score, roc_auc_score\n",
    "from sklearn.model_selection import cross_val_predict, cross_val_score\n",
    "\n",
    "def binary_evaluation_metrics(X, y, model):\n",
    "\n",
    "    y_proba=model.predict_proba(X)[:,1]\n",
    "    y_pred=np.greater_equal(y_proba, 0.5).astype(int)\n",
    "    recall=recall_score(y, y_pred)\n",
    "    precision=precision_score(y, y_pred)\n",
    "    roc_auc=roc_auc_score(y, y_proba)   \n",
    "    \n",
    "    print(\"ROC-AUC score: \" + str(roc_auc))\n",
    "    print(\"Precision: \" + str(precision))\n",
    "    print(\"Recall: \" + str(recall))  "
   ]
  },
  {
   "cell_type": "code",
   "execution_count": 48,
   "metadata": {},
   "outputs": [],
   "source": [
    "def estimated_actual_probability(X, y, model):\n",
    "    \n",
    "    df_data=np.array([[model.predict_proba(X)[:,1]], [y]])\n",
    "    df=pd.DataFrame(df_data.squeeze().T, columns=['prob', 'actual'])\n",
    "    prob_bounds=[x*0.05 for x in range(0, 20)]\n",
    "    apply_bins(df, prob_bounds, \"prob\")\n",
    "\n",
    "    df_probs=df.drop(columns='prob').groupby(\"prob_bins\").mean().reset_index()\n",
    "    df_probs.loc[df_probs.prob_bins==\"0.95+\",\"prob_bins\"]=\"0.95_1.00\"\n",
    "    df_probs['mid']=np.mean([np.array(df_probs[\"prob_bins\"].str.split('_', expand=True)[1]).astype(float),\n",
    "                            np.array(df_probs[\"prob_bins\"].str.split('_', expand=True)[0]).astype(float)], axis=0)\n",
    "\n",
    "    df_probs=df_probs.sort_values('mid', ascending=True)\n",
    "    plt.figure(figsize=(10,5))\n",
    "\n",
    "    plt.scatter(df_probs[\"mid\"], df_probs[\"actual\"])\n",
    "    plt.plot([x*0.05 for x in range(0, 20)], [x*0.05 for x in range(0, 20)], label=\"45 degree\")\n",
    "    plt.title(\"Estimated vs Actual Probability\")\n",
    "    plt.xlabel(\"estimated probability\")\n",
    "    plt.ylabel(\"actual probability\")\n",
    "    plt.legend()"
   ]
  },
  {
   "cell_type": "markdown",
   "metadata": {},
   "source": [
    "Creating training data:"
   ]
  },
  {
   "cell_type": "code",
   "execution_count": 49,
   "metadata": {},
   "outputs": [],
   "source": [
    "y_train=IV_WOE_data.TARGET\n",
    "X_train_binary=pd.get_dummies(IV_WOE_data.drop(columns=['index', 'TARGET']))\n"
   ]
  },
  {
   "cell_type": "markdown",
   "metadata": {},
   "source": [
    "Testing:"
   ]
  },
  {
   "cell_type": "code",
   "execution_count": 50,
   "metadata": {},
   "outputs": [
    {
     "name": "stdout",
     "output_type": "stream",
     "text": [
      "ROC-AUC score: 0.7367752628844237\n",
      "Precision: 0.503921568627451\n",
      "Recall: 0.010352467270896275\n"
     ]
    },
    {
     "data": {
      "image/png": "[encoded data removed]",
      "text/plain": [
       "<matplotlib.figure.Figure at 0x1b8850a8630>"
      ]
     },
     "metadata": {},
     "output_type": "display_data"
    }
   ],
   "source": [
    "from sklearn.linear_model import LogisticRegression\n",
    "log_reg=LogisticRegression()\n",
    "log_reg.fit(X_train_binary, y_train)\n",
    "binary_evaluation_metrics(X_train_binary, y_train, log_reg)\n",
    "estimated_actual_probability(X_train_binary, y_train, log_reg)"
   ]
  },
  {
   "cell_type": "markdown",
   "metadata": {},
   "source": [
    "The ROC-AUC score is not particularly good in this case. The precision and recall metrics indicate that the model is only identifying bad in very \"clear-cut\" cases. I.e, it is generally underestimating bad probability. \n",
    "\n",
    "Checking against our second objective - the performance of the scores themselves - the strong linear curve seen below shows that our scores are reflective of underlying rates. The exception to this is at the lowest value, but this seems to be due to the small number of subjects having this score:"
   ]
  },
  {
   "cell_type": "code",
   "execution_count": 79,
   "metadata": {},
   "outputs": [
    {
     "name": "stdout",
     "output_type": "stream",
     "text": [
      "Score-Odds MSE = 0.050513379009864856\n"
     ]
    },
    {
     "data": {
      "text/plain": [
       "Text(0.5,0,'Score')"
      ]
     },
     "execution_count": 79,
     "metadata": {},
     "output_type": "execute_result"
    },
    {
     "data": {
      "image/png": "[encoded data removed]",
      "text/plain": [
       "<matplotlib.figure.Figure at 0x1b8850a87b8>"
      ]
     },
     "metadata": {},
     "output_type": "display_data"
    }
   ],
   "source": [
    "from sklearn.linear_model import LinearRegression\n",
    "from sklearn.metrics import mean_squared_error\n",
    "\n",
    "Sub_Scores_bins=Sub_Scores_sum  \n",
    "score_bounds=[x*20 for x in range(22, 45)]\n",
    "apply_bins(Sub_Scores_bins, score_bounds, \"Odds Score\")\n",
    "Sub_Scores_bins.head()\n",
    "Sub_Scores_totals=Sub_Scores_bins[[\"Odds Score_bins\", \"TARGET\"]].groupby(\"Odds Score_bins\").agg(['sum', 'count']).reset_index()\n",
    "Sub_Scores_totals.columns=['bins','bad', 'count']\n",
    "Sub_Scores_totals['good']=Sub_Scores_totals['count']-Sub_Scores_totals['bad']\n",
    "Sub_Scores_totals['log odds']=np.log(Sub_Scores_totals['good']/Sub_Scores_totals['bad'])\n",
    "Sub_Scores_totals=pd.merge(Sub_Scores_totals, \n",
    "                           Sub_Scores_bins[[\"Odds Score_bins\", \"Odds Score\"]].groupby(\"Odds Score_bins\").mean().reset_index(),\n",
    "                           left_on=\"bins\", right_on=\"Odds Score_bins\", how=\"left\").rename(columns={\"Odds Score\": \"mean score\"})\n",
    "Sub_Scores_totals=Sub_Scores_totals.replace(np.inf, np.nan).dropna()\n",
    "lr=LinearRegression()\n",
    "pd.merge(Sub_Scores_totals, Sub_Scores_bins[[\"Odds Score_bins\", \"Odds Score\"]].groupby(\"Odds Score_bins\").mean().reset_index(), \n",
    "         left_on=\"bins\", right_on=\"Odds Score_bins\", how=\"left\")\n",
    "lr.fit(np.array(Sub_Scores_totals['mean score']).reshape(-1, 1), Sub_Scores_totals['log odds'])\n",
    "y_pred=lr.predict(Sub_Scores_totals['mean score'].reshape(-1, 1))\n",
    "mse=mean_squared_error(y_pred, Sub_Scores_totals['log odds'])\n",
    "print(\"Score-Odds MSE = \" + str(mse))\n",
    "plt.figure(figsize=(8,8))\n",
    "plt.scatter(Sub_Scores_totals['mean score'], Sub_Scores_totals['log odds'])\n",
    "plt.plot(Sub_Scores_totals['mean score'], y_pred)\n",
    "plt.title(\"Score vs Log Odds\")\n",
    "plt.xlabel(\"Score\")"
   ]
  },
  {
   "cell_type": "markdown",
   "metadata": {},
   "source": [
    "What are the advantages of such a setup?\n",
    "\n",
    "For one thing, it is very easy to understand and communicate how the scores have been calculated; they can be understood in laymans terms as measuring \"how much more likely you are to default on your credit\". \n",
    "\n",
    "Furthermore, the scores are quite reflective of actual performance: the scoring system could be used for acceptance/rejection decisioning with a reasonable degree of confidence. \n",
    "\n",
    "The actual model is underperforming, but it is worth keeping in mind that we did not set up our input features to give the best possible performance, so what will matter here is how it performs relative to other models. "
   ]
  },
  {
   "cell_type": "markdown",
   "metadata": {},
   "source": [
    "### WOE Input Data"
   ]
  },
  {
   "cell_type": "markdown",
   "metadata": {},
   "source": [
    "As mentioned above, our other option with regards input data is to use attribute WOE figures, rather than binomials. Is there any advantage to this?"
   ]
  },
  {
   "cell_type": "code",
   "execution_count": 80,
   "metadata": {
    "scrolled": true
   },
   "outputs": [],
   "source": [
    "# Joining attribute WOE at subject level\n",
    "subject_woe=pd.merge(IV_WOE,WOE , on=[\"Characteristic\", \"Attribute\"], how=\"left\")\n",
    "train_woe=pd.merge(subject_woe.drop(columns=\"Attribute\").pivot(index='index', columns='Characteristic', values='WOE').reset_index(), \n",
    "               subject_woe[[\"index\", \"TARGET\"]].drop_duplicates(), on='index', how='left').dropna()\n",
    "\n",
    "\n",
    "\n",
    "X_train_woe=train_woe.drop(columns=[\"TARGET\", \"index\"])\n",
    "y_train_woe=train_woe.TARGET"
   ]
  },
  {
   "cell_type": "code",
   "execution_count": 81,
   "metadata": {},
   "outputs": [
    {
     "data": {
      "text/html": [
       "<div>\n",
       "<style scoped>\n",
       "    .dataframe tbody tr th:only-of-type {\n",
       "        vertical-align: middle;\n",
       "    }\n",
       "\n",
       "    .dataframe tbody tr th {\n",
       "        vertical-align: top;\n",
       "    }\n",
       "\n",
       "    .dataframe thead th {\n",
       "        text-align: right;\n",
       "    }\n",
       "</style>\n",
       "<table border=\"1\" class=\"dataframe\">\n",
       "  <thead>\n",
       "    <tr style=\"text-align: right;\">\n",
       "      <th></th>\n",
       "      <th>CODE_GENDER</th>\n",
       "      <th>EXT_SOURCE_1_bins</th>\n",
       "      <th>EXT_SOURCE_2_bins</th>\n",
       "      <th>EXT_SOURCE_3_bins</th>\n",
       "      <th>NAME_EDUCATION_TYPE</th>\n",
       "      <th>NAME_INCOME_TYPE</th>\n",
       "      <th>REGION_RATING_CLIENT</th>\n",
       "      <th>REGION_RATING_CLIENT_W_CITY</th>\n",
       "      <th>YEARS_EMPLOYED_bins</th>\n",
       "      <th>YEARS_OLD_bins</th>\n",
       "    </tr>\n",
       "  </thead>\n",
       "  <tbody>\n",
       "    <tr>\n",
       "      <th>0</th>\n",
       "      <td>-25.09</td>\n",
       "      <td>-137.67</td>\n",
       "      <td>-47.70</td>\n",
       "      <td>-97.62</td>\n",
       "      <td>-11.15</td>\n",
       "      <td>-18.87</td>\n",
       "      <td>2.50</td>\n",
       "      <td>2.11</td>\n",
       "      <td>-29.72</td>\n",
       "      <td>-34.82</td>\n",
       "    </tr>\n",
       "    <tr>\n",
       "      <th>1</th>\n",
       "      <td>15.43</td>\n",
       "      <td>-13.51</td>\n",
       "      <td>45.70</td>\n",
       "      <td>-15.64</td>\n",
       "      <td>43.96</td>\n",
       "      <td>36.33</td>\n",
       "      <td>55.04</td>\n",
       "      <td>54.60</td>\n",
       "      <td>-29.72</td>\n",
       "      <td>-4.49</td>\n",
       "    </tr>\n",
       "    <tr>\n",
       "      <th>2</th>\n",
       "      <td>-25.09</td>\n",
       "      <td>-5.87</td>\n",
       "      <td>12.29</td>\n",
       "      <td>89.59</td>\n",
       "      <td>-11.15</td>\n",
       "      <td>-18.87</td>\n",
       "      <td>2.50</td>\n",
       "      <td>2.11</td>\n",
       "      <td>-29.72</td>\n",
       "      <td>-4.49</td>\n",
       "    </tr>\n",
       "    <tr>\n",
       "      <th>3</th>\n",
       "      <td>15.43</td>\n",
       "      <td>-5.87</td>\n",
       "      <td>45.70</td>\n",
       "      <td>-15.64</td>\n",
       "      <td>-11.15</td>\n",
       "      <td>-18.87</td>\n",
       "      <td>2.50</td>\n",
       "      <td>2.11</td>\n",
       "      <td>9.81</td>\n",
       "      <td>-4.49</td>\n",
       "    </tr>\n",
       "    <tr>\n",
       "      <th>4</th>\n",
       "      <td>-25.09</td>\n",
       "      <td>-5.87</td>\n",
       "      <td>-33.55</td>\n",
       "      <td>-15.64</td>\n",
       "      <td>-11.15</td>\n",
       "      <td>-18.87</td>\n",
       "      <td>2.50</td>\n",
       "      <td>2.11</td>\n",
       "      <td>9.81</td>\n",
       "      <td>42.16</td>\n",
       "    </tr>\n",
       "  </tbody>\n",
       "</table>\n",
       "</div>"
      ],
      "text/plain": [
       "   CODE_GENDER  EXT_SOURCE_1_bins  EXT_SOURCE_2_bins  EXT_SOURCE_3_bins  \\\n",
       "0       -25.09            -137.67             -47.70             -97.62   \n",
       "1        15.43             -13.51              45.70             -15.64   \n",
       "2       -25.09              -5.87              12.29              89.59   \n",
       "3        15.43              -5.87              45.70             -15.64   \n",
       "4       -25.09              -5.87             -33.55             -15.64   \n",
       "\n",
       "   NAME_EDUCATION_TYPE  NAME_INCOME_TYPE  REGION_RATING_CLIENT  \\\n",
       "0               -11.15            -18.87                  2.50   \n",
       "1                43.96             36.33                 55.04   \n",
       "2               -11.15            -18.87                  2.50   \n",
       "3               -11.15            -18.87                  2.50   \n",
       "4               -11.15            -18.87                  2.50   \n",
       "\n",
       "   REGION_RATING_CLIENT_W_CITY  YEARS_EMPLOYED_bins  YEARS_OLD_bins  \n",
       "0                         2.11               -29.72          -34.82  \n",
       "1                        54.60               -29.72           -4.49  \n",
       "2                         2.11               -29.72           -4.49  \n",
       "3                         2.11                 9.81           -4.49  \n",
       "4                         2.11                 9.81           42.16  "
      ]
     },
     "execution_count": 81,
     "metadata": {},
     "output_type": "execute_result"
    }
   ],
   "source": [
    "X_train_woe.head()"
   ]
  },
  {
   "cell_type": "markdown",
   "metadata": {},
   "source": [
    "Testing the model:"
   ]
  },
  {
   "cell_type": "code",
   "execution_count": 82,
   "metadata": {},
   "outputs": [
    {
     "name": "stdout",
     "output_type": "stream",
     "text": [
      "ROC-AUC score: 0.7346762036043184\n",
      "Precision: 0.4575342465753425\n",
      "Recall: 0.006727089627391742\n"
     ]
    }
   ],
   "source": [
    "log_reg.fit(X_train_woe, y_train_woe)\n",
    "binary_evaluation_metrics(X_train_woe, y_train_woe, log_reg)"
   ]
  },
  {
   "cell_type": "code",
   "execution_count": 83,
   "metadata": {},
   "outputs": [
    {
     "data": {
      "image/png": "[encoded data removed]",
      "text/plain": [
       "<matplotlib.figure.Figure at 0x1b8847c6e80>"
      ]
     },
     "metadata": {},
     "output_type": "display_data"
    }
   ],
   "source": [
    "estimated_actual_probability(X_train_woe, y_train_woe, log_reg)\n"
   ]
  },
  {
   "cell_type": "markdown",
   "metadata": {},
   "source": [
    "This has made virtually no difference to model performance. Using WOE values as opposed to binominals is supposed to assist training by capturing value differences between bins. However, at least in our case, this hasn't had any effect on performance. \n",
    "\n",
    "Another potential benefit of using WOE values as input data is that the estimated regression parameters can then be used to inform the scorecard. This might improve scorecard performance, and would also give a stronger manthematical relationship between the scorecard and the model, which would have the operational benefit of guaranteeing that portfolio-level variations in particular variables would be visible in both by necessity, and both would reflect the new risk environment. \n",
    "\n",
    "Parameter-weighted \"logistic scores\" are calculated below:"
   ]
  },
  {
   "cell_type": "code",
   "execution_count": 84,
   "metadata": {},
   "outputs": [
    {
     "data": {
      "text/plain": [
       "array([[-0.00538435, -0.00549634, -0.00787932, -0.00866861, -0.00725436,\n",
       "        -0.0037267 ,  0.0026899 , -0.00624951, -0.00510121,  0.00130996]])"
      ]
     },
     "execution_count": 84,
     "metadata": {},
     "output_type": "execute_result"
    }
   ],
   "source": [
    "weights=log_reg.coef_\n",
    "intercept=log_reg.intercept_\n",
    "Weights=pd.DataFrame(np.vstack((weights.squeeze(), X_train_woe.columns)).T, columns=[\"Weight\", \"Characteristic\"])\n",
    "weights"
   ]
  },
  {
   "cell_type": "code",
   "execution_count": 85,
   "metadata": {},
   "outputs": [
    {
     "data": {
      "text/plain": [
       "Text(0.5,0,'Score')"
      ]
     },
     "execution_count": 85,
     "metadata": {},
     "output_type": "execute_result"
    },
    {
     "data": {
      "image/png": "[encoded data removed]",
      "text/plain": [
       "<matplotlib.figure.Figure at 0x1b8846ee5c0>"
      ]
     },
     "metadata": {},
     "output_type": "display_data"
    }
   ],
   "source": [
    "Score=WOE[[\"Characteristic\", \"Attribute\", \"ln_ODDS\", \"WOE\"]]\n",
    "Score=pd.merge(Score, Weights, on=\"Characteristic\", how=\"left\")\n",
    "Score[\"Logistic_Score\"]=-(Score[\"WOE\"]*Score[\"Weight\"]+(intercept/len(Weights)))*FACTOR+(OFFSET/len(Weights))\n",
    "Sub_Scores=pd.merge(IV_WOE, Score[[\"Logistic_Score\", \"Characteristic\", \"Attribute\"]], on=[\"Characteristic\", \"Attribute\"], how=\"left\")\n",
    "Sub_Scores_sum=pd.merge(Sub_Scores.drop(columns=\"Logistic_Score\"), Sub_Scores[[\"index\", \"Logistic_Score\"]].groupby(\"index\").sum().reset_index(), on=\"index\")[[\"index\", \"Logistic_Score\", \"TARGET\"]].drop_duplicates().reset_index().drop(columns='level_0')\n",
    "Sub_Scores_sum.head()\n",
    "\n",
    "sns.kdeplot(Sub_Scores_sum.loc[Sub_Scores_sum['TARGET'] == 0, \"Logistic_Score\"], label = 'Good');\n",
    "sns.kdeplot(Sub_Scores_sum.loc[Sub_Scores_sum['TARGET'] == 1, \"Logistic_Score\"], label = 'Bad');\n",
    "plt.title(\"Good/Bad Score Distributions\")\n",
    "plt.xlabel(\"Score\")"
   ]
  },
  {
   "cell_type": "markdown",
   "metadata": {},
   "source": [
    "The new scores are behaving as one would expect. Comparing to log-odds:"
   ]
  },
  {
   "cell_type": "code",
   "execution_count": 86,
   "metadata": {},
   "outputs": [
    {
     "name": "stdout",
     "output_type": "stream",
     "text": [
      "Score-Odds MSE = 0.012386303640262475\n"
     ]
    },
    {
     "data": {
      "text/plain": [
       "Text(0,0.5,'log odds')"
      ]
     },
     "execution_count": 86,
     "metadata": {},
     "output_type": "execute_result"
    },
    {
     "data": {
      "image/png": "[encoded data removed]",
      "text/plain": [
       "<matplotlib.figure.Figure at 0x1b885e4da20>"
      ]
     },
     "metadata": {},
     "output_type": "display_data"
    }
   ],
   "source": [
    "Sub_Scores_bins=Sub_Scores_sum\n",
    "Sub_Scores_sum.head(30)\n",
    "score_bounds=[x*10 for x in range(4, 15)]\n",
    "apply_bins(Sub_Scores_bins, score_bounds, \"Logistic_Score\")\n",
    "Sub_Scores_bins.head()\n",
    "Sub_Scores_totals=Sub_Scores_bins[[\"Logistic_Score_bins\", \"TARGET\"]].groupby(\"Logistic_Score_bins\").agg(['sum', 'count'])\n",
    "Sub_Scores_totals.columns=['bad', 'count']\n",
    "Sub_Scores_totals['good']=Sub_Scores_totals['count']-Sub_Scores_totals['bad']\n",
    "\n",
    "Sub_Scores_totals['log odds']=np.log(Sub_Scores_totals['good']/Sub_Scores_totals['bad'])\n",
    "Sub_Scores_totals['mean score']=Sub_Scores_bins[[\"Logistic_Score_bins\", \"Logistic_Score\"]].groupby(\"Logistic_Score_bins\").mean()\n",
    "\n",
    "Sub_Scores_totals=Sub_Scores_totals.replace(np.inf, np.nan).dropna()\n",
    "lr=LinearRegression()\n",
    "lr.fit(np.array(Sub_Scores_totals['mean score']).reshape(-1, 1), Sub_Scores_totals['log odds'])\n",
    "y_pred=lr.predict(Sub_Scores_totals['mean score'].reshape(-1, 1))\n",
    "mse=mean_squared_error(y_pred, Sub_Scores_totals['log odds'])\n",
    "print(\"Score-Odds MSE = \" + str(mse))\n",
    "plt.figure(figsize=(8,8))\n",
    "plt.scatter(Sub_Scores_totals['mean score'], Sub_Scores_totals['log odds'])\n",
    "plt.plot(Sub_Scores_totals['mean score'], y_pred)\n",
    "plt.title(\"Score vs Log Odds\")\n",
    "plt.xlabel(\"Score\")\n",
    "plt.ylabel(\"log odds\")"
   ]
  },
  {
   "cell_type": "markdown",
   "metadata": {},
   "source": [
    "This actually looks to have improved the scorecard quite a bit. Combining the model and the scorecard in this way seems to have produced a tool that is greater than the sum of its parts and would be useful operationally for both customer management and portfolio-level analytics. "
   ]
  },
  {
   "cell_type": "markdown",
   "metadata": {},
   "source": [
    "### Decision Trees"
   ]
  },
  {
   "cell_type": "markdown",
   "metadata": {},
   "source": [
    "We'll now examine a few machine learning approaches to classification to see how they perform and interact with the scorecard. \n",
    "\n",
    "We'll start with Decision Trees. These work by examining every input feature and finding a value of a feature which gives the neatest bad/good split. This process is then iterated up to a procedurally or hyperparameter-determined end point. Crucially, it serves our purposes in that it produces prediction probabilities, by taking the bad proportion in the end-node (leaf) each observation ends up in. \n",
    "\n",
    "We'll try it on both WOE and binary data and see how it performs. We'll tune the models using the method of early stopping, which iteratively increases fitting until it stops yielding benefits to mean squared error. Checking WOE input data first:"
   ]
  },
  {
   "cell_type": "code",
   "execution_count": 87,
   "metadata": {},
   "outputs": [
    {
     "name": "stdout",
     "output_type": "stream",
     "text": [
      "max depth = 24\n",
      "ROC-AUC score: 0.9026837909590817\n",
      "Precision: 0.7222274568924903\n",
      "Recall: 0.30876132930513595\n"
     ]
    },
    {
     "data": {
      "image/png": "[encoded data removed]",
      "text/plain": [
       "<matplotlib.figure.Figure at 0x1b88405c940>"
      ]
     },
     "metadata": {},
     "output_type": "display_data"
    }
   ],
   "source": [
    "from sklearn.model_selection import cross_val_score\n",
    "from sklearn.tree import DecisionTreeClassifier\n",
    "\n",
    "def tree_early_stopping(X, y):\n",
    "    i=1\n",
    "    j=1\n",
    "    min_score=float('inf')\n",
    "    while True:\n",
    "        i=i+1\n",
    "        tree=DecisionTreeClassifier(max_depth=i)     \n",
    "        tree.fit(X, y)\n",
    "        mean_score=np.mean(cross_val_score(tree, X, y, cv=3))\n",
    "        if mean_score<=min_score:\n",
    "            min_score=mean_score\n",
    "        else: j=j+1\n",
    "        if j>=5:\n",
    "            print(\"max depth = \" + str(i-j))\n",
    "            tree=DecisionTreeClassifier(max_depth=i-j)     \n",
    "            tree.fit(X, y)\n",
    "            break\n",
    "    \n",
    "    binary_evaluation_metrics(X, y, tree)\n",
    "    estimated_actual_probability(X, y, tree)\n",
    "    \n",
    "tree_early_stopping(X_train_woe, y_train_woe)"
   ]
  },
  {
   "cell_type": "markdown",
   "metadata": {},
   "source": [
    "This model is performing quite a lot better than the logistic model. It is producing prediction probabilities that are quite a bit more accurate, and this is reflected in both the ROC-AUC score and the estimated vs actual probabilities plot.\n",
    "\n",
    "Since all our WOE features have linear (or at least convex) relationships with bad probability, all the bad probabilities produced by the decision tree to be linear combinations of the underlying WOE values.This is good, because changes in the underlying risk environment will be reflected in model's predictions, and vice versa. However, selecting and creating variables in this way has most likely held the model back somewhat. A decision tree will essentially slice the test set into discrete areas of feature space, allowing to exploit local relationships which a logistic model would not be able to find. So the setup we have here seems to be the best way of using decision trees in a business context: otherwise, the model is likely to behave somewhat opaquely, prompting awkward questions for credit risk managers. \n",
    "\n",
    "Another point of departure is that the logistic regression model served the scorecard by weighting each score by the slope of its linear relationship to bad probability. Relationships with regards decision trees are not so clear-cut; however, it does produce a characteristic-level \"feature importance\" metric, which measure the extent to which that feature has been used to perform splits. Might this be used, in place of logistic regression parameter, to weight scores?\n",
    "\n",
    "The below examines this. We can see that it does have marginal benefit to scorecard (the MSE of the score/odds regression has dropped from around 0.05 to 0.04):"
   ]
  },
  {
   "cell_type": "code",
   "execution_count": 88,
   "metadata": {},
   "outputs": [
    {
     "name": "stdout",
     "output_type": "stream",
     "text": [
      "Factor = 14.426950408889635\n"
     ]
    },
    {
     "data": {
      "text/plain": [
       "Text(0.5,0,'Score')"
      ]
     },
     "execution_count": 88,
     "metadata": {},
     "output_type": "execute_result"
    },
    {
     "data": {
      "image/png": "[encoded data removed]",
      "text/plain": [
       "<matplotlib.figure.Figure at 0x1b883b01e48>"
      ]
     },
     "metadata": {},
     "output_type": "display_data"
    }
   ],
   "source": [
    "tree=DecisionTreeClassifier(max_depth=27)     \n",
    "tree.fit(X_train_woe, y_train_woe)\n",
    "\n",
    "#\"Points to double odds\" \n",
    "PDO=10\n",
    "\n",
    "FACTOR=PDO/np.log(2)\n",
    "print(\"Factor = \" + str(FACTOR))\n",
    "#Odds ratio and mid-point: odds at 20:1 for points=100 and doubling every 10 points\n",
    "OR=20\n",
    "MID=1000\n",
    "OFFSET=MID-FACTOR*np.log(OR)\n",
    "\n",
    "weights= tree.feature_importances_\n",
    "Weights=pd.DataFrame(np.vstack((weights.squeeze(), X_train_woe.columns)).T, columns=[\"Weight\", \"Characteristic\"])\n",
    "Score=WOE[[\"Characteristic\", \"Attribute\", \"ln_ODDS\", \"WOE\"]]\n",
    "Score=pd.merge(Score, Weights, on=\"Characteristic\", how=\"left\")\n",
    "Score[\"Logistic_Score\"]=(Score[\"WOE\"]*Score[\"Weight\"])*FACTOR+(OFFSET/len(Weights))\n",
    "Sub_Scores=pd.merge(IV_WOE, Score[[\"Logistic_Score\", \"Characteristic\", \"Attribute\"]], on=[\"Characteristic\", \"Attribute\"], how=\"left\")\n",
    "Sub_Scores_sum=pd.merge(Sub_Scores.drop(columns=\"Logistic_Score\"), Sub_Scores[[\"index\", \"Logistic_Score\"]].groupby(\"index\").sum().reset_index(), on=\"index\")[[\"index\", \"Logistic_Score\", \"TARGET\"]].drop_duplicates().reset_index().drop(columns='level_0')\n",
    "# Sub_Scores_sum.head()\n",
    "\n",
    "sns.kdeplot(Sub_Scores_sum.loc[Sub_Scores_sum['TARGET'] == 0, \"Logistic_Score\"], label = 'Good');\n",
    "sns.kdeplot(Sub_Scores_sum.loc[Sub_Scores_sum['TARGET'] == 1, \"Logistic_Score\"], label = 'Bad');\n",
    "plt.title(\"Good/Bad Score Distributions\")\n",
    "plt.xlabel(\"Score\")\n",
    "# Score"
   ]
  },
  {
   "cell_type": "code",
   "execution_count": 89,
   "metadata": {},
   "outputs": [
    {
     "name": "stdout",
     "output_type": "stream",
     "text": [
      "Score-Odds MSE = 0.040757498731466536\n"
     ]
    },
    {
     "data": {
      "text/plain": [
       "Text(0,0.5,'log odds')"
      ]
     },
     "execution_count": 89,
     "metadata": {},
     "output_type": "execute_result"
    },
    {
     "data": {
      "image/png": "[encoded data removed]",
      "text/plain": [
       "<matplotlib.figure.Figure at 0x1b883b10198>"
      ]
     },
     "metadata": {},
     "output_type": "display_data"
    }
   ],
   "source": [
    "Sub_Scores_bins=Sub_Scores_sum  \n",
    "score_bounds=[x*100 for x in range(0, 20)]\n",
    "apply_bins(Sub_Scores_bins, score_bounds, \"Logistic_Score\")\n",
    "Sub_Scores_totals=Sub_Scores_bins[[\"Logistic_Score_bins\", \"TARGET\"]].groupby(\"Logistic_Score_bins\").agg(['sum', 'count'])\n",
    "Sub_Scores_totals.columns=['bad', 'count']\n",
    "Sub_Scores_totals['good']=Sub_Scores_totals['count']-Sub_Scores_totals['bad']\n",
    "\n",
    "Sub_Scores_totals['log odds']=np.log(Sub_Scores_totals['good']/Sub_Scores_totals['bad'])\n",
    "Sub_Scores_totals['mean score']=Sub_Scores_bins[[\"Logistic_Score_bins\", \"Logistic_Score\"]].groupby(\"Logistic_Score_bins\").mean()\n",
    "Sub_Scores_totals=Sub_Scores_totals.replace(np.inf, np.nan).dropna()\n",
    "lr=LinearRegression()\n",
    "# Sub_Scores_totals\n",
    "lr.fit(np.array(Sub_Scores_totals['mean score']).reshape(-1, 1), Sub_Scores_totals['log odds'])\n",
    "y_pred=lr.predict(Sub_Scores_totals['mean score'].reshape(-1, 1))\n",
    "mse=mean_squared_error(y_pred, Sub_Scores_totals['log odds'])\n",
    "print(\"Score-Odds MSE = \" + str(mse))\n",
    "plt.figure(figsize=(8,8))\n",
    "plt.scatter(Sub_Scores_totals['mean score'], Sub_Scores_totals['log odds'])\n",
    "plt.plot(Sub_Scores_totals['mean score'], y_pred)\n",
    "plt.title(\"Score vs Log Odds\")\n",
    "plt.xlabel(\"Score\")\n",
    "plt.ylabel(\"log odds\")\n"
   ]
  },
  {
   "cell_type": "markdown",
   "metadata": {},
   "source": [
    "How does a business manage a situaton in which the scorecard is underperforming, and the model performing well? \n",
    "\n",
    "A compromise could be to use logistic regression to inform the scorecard, but use decision trees, or other high-performing machine learning algorithms, for portfolio-level risk prediction. This situation would become difficult to manage if th predictions of the models began to diverge, however this should not happen so long as the models use the same sets of linear input data. "
   ]
  },
  {
   "cell_type": "markdown",
   "metadata": {},
   "source": [
    "We'll also test the performance of decision trees using binomial input data, for the sake of tying things off. Note that this approach does not allow us to apply feature importance to the scorecard:"
   ]
  },
  {
   "cell_type": "code",
   "execution_count": 90,
   "metadata": {},
   "outputs": [
    {
     "name": "stdout",
     "output_type": "stream",
     "text": [
      "max depth = 31\n",
      "ROC-AUC score: 0.9004935471587016\n",
      "Precision: 0.7213812677388837\n",
      "Recall: 0.3071500503524673\n"
     ]
    },
    {
     "data": {
      "image/png": "[encoded data removed]",
      "text/plain": [
       "<matplotlib.figure.Figure at 0x1b8846ee9b0>"
      ]
     },
     "metadata": {},
     "output_type": "display_data"
    }
   ],
   "source": [
    "tree_early_stopping(X_train_binary, y_train)"
   ]
  },
  {
   "cell_type": "markdown",
   "metadata": {},
   "source": [
    "As we've come to expect, performance is roughly the same.  "
   ]
  },
  {
   "cell_type": "markdown",
   "metadata": {},
   "source": [
    "### Ensemble Methods"
   ]
  },
  {
   "cell_type": "markdown",
   "metadata": {},
   "source": [
    "Random forests work by creating a large number of decision trees on subsets of the data and then taking averages. Examining performance:"
   ]
  },
  {
   "cell_type": "code",
   "execution_count": 92,
   "metadata": {},
   "outputs": [
    {
     "name": "stdout",
     "output_type": "stream",
     "text": [
      "n_estimators = 12\n",
      "ROC-AUC score: 0.8907227489979511\n",
      "Precision: 0.7835369774919614\n",
      "Recall: 0.2453977844914401\n"
     ]
    },
    {
     "data": {
      "image/png": "[encoded data removed]",
      "text/plain": [
       "<matplotlib.figure.Figure at 0x1b88455f0b8>"
      ]
     },
     "metadata": {},
     "output_type": "display_data"
    }
   ],
   "source": [
    "from sklearn.ensemble import RandomForestClassifier\n",
    "\n",
    "def forest_early_stopping(X, y):\n",
    "    #starting at 10 estimators, to prevent premature stopping due to statistical noise\n",
    "    i=10\n",
    "    j=1\n",
    "    min_score=float('inf')\n",
    "    while True:\n",
    "        i=i+1\n",
    "        rf=RandomForestClassifier(n_estimators =i)     \n",
    "        rf.fit(X, y)\n",
    "        mean_score=np.mean(cross_val_score(tree, X, y, cv=9))\n",
    "        if mean_score<=min_score:\n",
    "            min_score=mean_score\n",
    "        else: j=j+1\n",
    "        if j>=5:\n",
    "            rf=RandomForestClassifier(n_estimators =i-j)\n",
    "            print(\"n_estimators = \" + str(i-j))\n",
    "            rf.fit(X, y)\n",
    "            break\n",
    "    \n",
    "    binary_evaluation_metrics(X, y, rf)\n",
    "    estimated_actual_probability(X, y, rf)\n",
    "\n",
    "forest_early_stopping(X_train_woe, y_train_woe)"
   ]
  },
  {
   "cell_type": "markdown",
   "metadata": {},
   "source": [
    "The algorithm is working quite well as a classifier in terms of precision and recall, however it is not faring as well as decision trees for our purposes since it's ROC-AUC score is not as high. Beyond 50% actual/estimated probability, it begins to underestimate probability\n",
    "\n",
    "The benefits of applying calculated feature importance weights to the scorecard are marginal and similar to decision trees:  "
   ]
  },
  {
   "cell_type": "code",
   "execution_count": 95,
   "metadata": {},
   "outputs": [
    {
     "name": "stdout",
     "output_type": "stream",
     "text": [
      "Factor = 14.426950408889635\n",
      "Score-Odds MSE = 0.03932491368893843\n"
     ]
    },
    {
     "data": {
      "text/plain": [
       "Text(0,0.5,'log odds')"
      ]
     },
     "execution_count": 95,
     "metadata": {},
     "output_type": "execute_result"
    },
    {
     "data": {
      "image/png": "[encoded data removed]",
      "text/plain": [
       "<matplotlib.figure.Figure at 0x1b883a08c18>"
      ]
     },
     "metadata": {},
     "output_type": "display_data"
    }
   ],
   "source": [
    "rf=RandomForestClassifier(n_estimators =12)\n",
    "rf.fit(X_train_woe, y_train_woe)\n",
    "\n",
    "#\"Points to double odds\" \n",
    "PDO=10\n",
    "FACTOR=PDO/np.log(2)\n",
    "print(\"Factor = \" + str(FACTOR))\n",
    "#Odds ratio and mid-point: odds at 20:1 for points=100 and doubling every 10 points\n",
    "OR=20\n",
    "MID=1000\n",
    "OFFSET=MID-FACTOR*np.log(OR)\n",
    "\n",
    "weights= rf.feature_importances_\n",
    "Weights=pd.DataFrame(np.vstack((weights.squeeze(), X_train_woe.columns)).T, columns=[\"Weight\", \"Characteristic\"])\n",
    "Score=WOE[[\"Characteristic\", \"Attribute\", \"ln_ODDS\", \"WOE\"]]\n",
    "Score=pd.merge(Score, Weights, on=\"Characteristic\", how=\"left\")\n",
    "Score[\"Logistic_Score\"]=(Score[\"WOE\"]*Score[\"Weight\"])*FACTOR+(OFFSET/len(Weights))\n",
    "Sub_Scores=pd.merge(IV_WOE, Score[[\"Logistic_Score\", \"Characteristic\", \"Attribute\"]], on=[\"Characteristic\", \"Attribute\"], how=\"left\")\n",
    "Sub_Scores_sum=pd.merge(Sub_Scores.drop(columns=\"Logistic_Score\"), Sub_Scores[[\"index\", \"Logistic_Score\"]].groupby(\"index\").sum().reset_index(), on=\"index\")[[\"index\", \"Logistic_Score\", \"TARGET\"]].drop_duplicates().reset_index().drop(columns='level_0')\n",
    "\n",
    "Sub_Scores_bins=Sub_Scores_sum  \n",
    "score_bounds=[x*100 for x in range(0, 20)]\n",
    "apply_bins(Sub_Scores_bins, score_bounds, \"Logistic_Score\")\n",
    "Sub_Scores_totals=Sub_Scores_bins[[\"Logistic_Score_bins\", \"TARGET\"]].groupby(\"Logistic_Score_bins\").agg(['sum', 'count'])\n",
    "Sub_Scores_totals.columns=['bad', 'count']\n",
    "Sub_Scores_totals['good']=Sub_Scores_totals['count']-Sub_Scores_totals['bad']\n",
    "\n",
    "Sub_Scores_totals['log odds']=np.log(Sub_Scores_totals['good']/Sub_Scores_totals['bad'])\n",
    "Sub_Scores_totals['mean score']=Sub_Scores_bins[[\"Logistic_Score_bins\", \"Logistic_Score\"]].groupby(\"Logistic_Score_bins\").mean()\n",
    "Sub_Scores_totals=Sub_Scores_totals.replace(np.inf, np.nan).dropna()\n",
    "lr=LinearRegression()\n",
    "# Sub_Scores_totals\n",
    "lr.fit(np.array(Sub_Scores_totals['mean score']).reshape(-1, 1), Sub_Scores_totals['log odds'])\n",
    "y_pred=lr.predict(Sub_Scores_totals['mean score'].reshape(-1, 1))\n",
    "mse=mean_squared_error(y_pred, Sub_Scores_totals['log odds'])\n",
    "print(\"Score-Odds MSE = \" + str(mse))\n",
    "plt.figure(figsize=(8,8))\n",
    "plt.scatter(Sub_Scores_totals['mean score'], Sub_Scores_totals['log odds'])\n",
    "plt.plot(Sub_Scores_totals['mean score'], y_pred)\n",
    "plt.title(\"Score vs Log Odds\")\n",
    "plt.xlabel(\"Score\")\n",
    "plt.ylabel(\"log odds\")"
   ]
  },
  {
   "cell_type": "markdown",
   "metadata": {},
   "source": [
    "AdaBoost, which works by iterative training classifiers on residiual error, performs in a similar, though more extremely, way to random forest. It's ROC-AUC score is comparable to the decision tree and random forest models. \n",
    "\n",
    "The probability estimates it produces are interesting. Essentially, it has only produced estimates greater than 60% or so  for observations which were in fact bads. So it is working very well as a classifier, but does not actually produce reflective probabilities. \n",
    "\n",
    "AdBoostClassifier doesn't produce feature importance weights:"
   ]
  },
  {
   "cell_type": "code",
   "execution_count": 96,
   "metadata": {},
   "outputs": [
    {
     "name": "stdout",
     "output_type": "stream",
     "text": [
      "ROC-AUC score: 0.9040995697870545\n",
      "Precision: 0.8108108108108109\n",
      "Recall: 0.24894259818731118\n"
     ]
    },
    {
     "data": {
      "image/png": "[encoded data removed]",
      "text/plain": [
       "<matplotlib.figure.Figure at 0x1b883f35c88>"
      ]
     },
     "metadata": {},
     "output_type": "display_data"
    }
   ],
   "source": [
    "from sklearn.ensemble import AdaBoostClassifier\n",
    "ad=AdaBoostClassifier(DecisionTreeClassifier(max_depth=40),n_estimators=200, learning_rate=0.5)\n",
    "\n",
    "ad.fit(X_train_woe, y_train_woe)\n",
    "binary_evaluation_metrics(X_train_woe, y_train_woe, ad)\n",
    "estimated_actual_probability(X_train_woe, y_train_woe, ad)"
   ]
  },
  {
   "cell_type": "markdown",
   "metadata": {},
   "source": [
    "## Conclusion"
   ]
  },
  {
   "cell_type": "markdown",
   "metadata": {},
   "source": [
    "In light of what we've seen, there doesn't seem to be a stong case for foregoing the benefits to scorecard performance afforded by logistic regression. Decision Trees do appear as though they could have a role in the process in performing portfolio modelling, although strong consideration needs to be given to how they are set up to ensure that there is no informational disjunct between the model and the scorecard. The ensemble based methods we have seen appear to perform outstandingly as classifiers and have obvious applications in other contexts, but aren't set up for probability estimation and hence aren't suitbale for our purposes. \n",
    "\n",
    "We still haven't got the best out of these models for this project given the data that is available. Next time, we'll see if dimensionality reduction and feature engineering can bring us to closer to identifying the \"kinds\" of customers likely to default. "
   ]
  }
 ],
 "metadata": {
  "kernelspec": {
   "display_name": "Python 3",
   "language": "python",
   "name": "python3"
  },
  "language_info": {
   "codemirror_mode": {
    "name": "ipython",
    "version": 3
   },
   "file_extension": ".py",
   "mimetype": "text/x-python",
   "name": "python",
   "nbconvert_exporter": "python",
   "pygments_lexer": "ipython3",
   "version": "3.6.4"
  }
 },
 "nbformat": 4,
 "nbformat_minor": 2
}
